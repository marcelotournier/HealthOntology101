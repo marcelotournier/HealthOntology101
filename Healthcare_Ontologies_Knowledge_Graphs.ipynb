{
 "cells": [
  {
   "cell_type": "markdown",
   "id": "d2b84779-a2f7-4082-8ffb-83de39238e1e",
   "metadata": {},
   "source": [
    "# Healthcare Ontology 101\n",
    "\n",
    "### Objective:\n",
    "This notebook is a demo for the talk at NLP Summit 2021:\n",
    "\n",
    "https://www.nlpsummit.org/nlp-clinical-ontology-101/\n",
    "\n",
    "Presentation slides can be found at: \n",
    "\n",
    "https://docs.google.com/presentation/d/12RqIXvCo5IF3KwazLX_KIBRbVjrvYHYUeZQN_Z1l3eM/edit#slide=id.geee13e491f_0_85"
   ]
  },
  {
   "cell_type": "markdown",
   "id": "3dbdcd8f-5e09-4cdb-b10f-cf48e5883f0c",
   "metadata": {},
   "source": [
    "### Notebook architecture:\n",
    "\n",
    "The stack used in this notebook is described as follows:\n",
    "- A dataset with fake clinical data is ingested in Spark\n",
    "- We instance a PyTorch BERT Model for Named Entity Recognition of medical terms from HuggingFace Model Hub\n",
    "- Parse the text in Spark to extract clinical entities (meds, problems, tests/procedures)\n",
    "- Parse the entities into a rudimentary \"RDF-like\" ontology triplestore\n",
    "- Generate a knowledge graph for the given patient info, as output\n",
    "\n",
    "![](ClinicalOntology101.jpg)"
   ]
  },
  {
   "cell_type": "code",
   "execution_count": null,
   "id": "f027348c-7c43-4f7e-b7df-1ced483baaba",
   "metadata": {},
   "outputs": [],
   "source": [
    "# DISCLAIMER: THIS IS NOT OPTIMIZED FOR PERFORMANCE"
   ]
  },
  {
   "cell_type": "code",
   "execution_count": 1,
   "id": "d4048fe1-00fe-43c6-9f6a-cab15fdfe0ef",
   "metadata": {},
   "outputs": [],
   "source": [
    "# PROJECT DEPENDENCIES:\n",
    "# FOR GRAPHVIZ => Follow install guide in https://graphviz.org/download/\n",
    "!pip install \\\n",
    "transformers==4.10.0 \\\n",
    "torch==1.9.0 \\\n",
    "ipywidgets \\\n",
    "--quiet"
   ]
  },
  {
   "cell_type": "code",
   "execution_count": null,
   "id": "cbec0872-c2f2-41e8-b122-f0693a4648e9",
   "metadata": {},
   "outputs": [],
   "source": [
    "# Graphviz deps in linux:\n",
    "!conda install -c anaconda graphviz\n",
    "!conda install -c anaconda pydot"
   ]
  },
  {
   "cell_type": "raw",
   "id": "296e1a93-4122-481a-95ae-53966779faf0",
   "metadata": {},
   "source": [
    "# IF NEEDED => Setup environment variables (since I have multiple python and spark installs...)\n",
    "import os\n",
    "\n",
    "os.environ[\"SPARK_HOME\"] = \"/Users/mtournier/miniconda3/envs/sparknlp/lib/python3.9/site-packages/pyspark\"\n",
    "os.environ[\"PYTHONPATH\"] = \"%SPARK_HOME%\\python;%SPARK_HOME%\\python\\lib\\py4j-0.10.9-src.zip:%PYTHONPATH%\""
   ]
  },
  {
   "cell_type": "code",
   "execution_count": 1,
   "id": "f1bfd64a-907f-407a-a952-8d9b2024010b",
   "metadata": {},
   "outputs": [],
   "source": [
    "from pyspark import SparkContext\n",
    "from pyspark.sql import SparkSession\n",
    "from ontoutils.pipelines import TaggerPipeline, process_tags, process_text\n",
    "from ontoutils.triplestore import make_triplestore\n",
    "from ontoutils.graphs import get_knowledge_graph"
   ]
  },
  {
   "cell_type": "code",
   "execution_count": 2,
   "id": "f0088e20-95a6-4d87-a76c-eb6fd25b0731",
   "metadata": {},
   "outputs": [],
   "source": [
    "# Setup spark context and session\n",
    "# - just because I like to use RDDs :P\n",
    "\n",
    "sc = SparkContext.getOrCreate()\n",
    "spark = SparkSession(sc)"
   ]
  },
  {
   "cell_type": "code",
   "execution_count": 3,
   "id": "1f7de698-1d85-4b5f-a680-bf2eeee53006",
   "metadata": {},
   "outputs": [],
   "source": [
    "model_name = \"samrawal/bert-base-uncased_clinical-ner\"\n",
    "tokenizer_name = \"bert-base-uncased\"\n",
    "\n",
    "ner = TaggerPipeline(model_name, tokenizer_name)"
   ]
  },
  {
   "cell_type": "code",
   "execution_count": 4,
   "id": "66569ba5-4d75-4ea7-8305-447c713249c9",
   "metadata": {},
   "outputs": [],
   "source": [
    "sequences = sc.parallelize([\n",
    "    {\"id\": \"A0001\", \"text\": \"Patient with Type 2 diabetes, taking insulin for 3 months. A1C at 2021-12-12 is 5.9%\"},\n",
    "    {\"id\": \"B0021\", \"text\": \"John has glaucoma and chronic back pain. He is in use of amitriptyline 25mg and he is complaining about vision loss\"},\n",
    "    {\"id\": \"CA091\", \"text\": \"Mary is a 31 years old patient with high blood pressure. She is due for retinal eye exam. She takes losartan\"}\n",
    "])"
   ]
  },
  {
   "cell_type": "code",
   "execution_count": 5,
   "id": "410bc2f7-9b5c-4ae1-82c3-abef0ebb08fd",
   "metadata": {},
   "outputs": [
    {
     "data": {
      "text/plain": [
       "{0: 'B-problem',\n",
       " 1: 'B-treatment',\n",
       " 2: 'I-test',\n",
       " 3: 'I-treatment',\n",
       " 4: 'B-test',\n",
       " 5: 'O',\n",
       " 6: 'I-problem'}"
      ]
     },
     "execution_count": 5,
     "metadata": {},
     "output_type": "execute_result"
    }
   ],
   "source": [
    "ner.label_list"
   ]
  },
  {
   "cell_type": "code",
   "execution_count": 6,
   "id": "a7a134c9-55dc-4bb7-bb19-f278aa3557a1",
   "metadata": {},
   "outputs": [],
   "source": [
    "tagged_sequences = sequences.map(lambda row: process_text(row, ner))"
   ]
  },
  {
   "cell_type": "code",
   "execution_count": 7,
   "id": "95fd8bda-4902-4dea-ae65-5ff1efa52a76",
   "metadata": {},
   "outputs": [],
   "source": [
    "df = tagged_sequences.toDF()"
   ]
  },
  {
   "cell_type": "code",
   "execution_count": 8,
   "id": "2a90e896-6aa8-4904-9974-2dc1140d2d01",
   "metadata": {},
   "outputs": [
    {
     "name": "stdout",
     "output_type": "stream",
     "text": [
      "root\n",
      " |-- id: string (nullable = true)\n",
      " |-- problems: array (nullable = true)\n",
      " |    |-- element: string (containsNull = true)\n",
      " |-- tags: array (nullable = true)\n",
      " |    |-- element: struct (containsNull = true)\n",
      " |    |    |-- _1: string (nullable = true)\n",
      " |    |    |-- _2: string (nullable = true)\n",
      " |-- tests: array (nullable = true)\n",
      " |    |-- element: string (containsNull = true)\n",
      " |-- text: string (nullable = true)\n",
      " |-- treatments: array (nullable = true)\n",
      " |    |-- element: string (containsNull = true)\n",
      "\n"
     ]
    }
   ],
   "source": [
    "df.printSchema()"
   ]
  },
  {
   "cell_type": "code",
   "execution_count": 9,
   "id": "6dc5f9da-bc41-4402-aedd-59e1d373e4ae",
   "metadata": {},
   "outputs": [],
   "source": [
    "# Checking tagged outputs:"
   ]
  },
  {
   "cell_type": "code",
   "execution_count": 10,
   "id": "a73853e1-2e2a-4300-adaa-91b2a7574954",
   "metadata": {},
   "outputs": [
    {
     "name": "stdout",
     "output_type": "stream",
     "text": [
      "+-----+------------------------------------------+---------------+------------------+\n",
      "|id   |problems                                  |treatments     |tests             |\n",
      "+-----+------------------------------------------+---------------+------------------+\n",
      "|A0001|[type 2 diabetes]                         |[insulin]      |[a1c]             |\n",
      "|B0021|[glaucoma, chronic back pain, vision loss]|[amitriptyline]|[]                |\n",
      "|CA091|[high blood pressure]                     |[losartan]     |[retinal eye exam]|\n",
      "+-----+------------------------------------------+---------------+------------------+\n",
      "\n"
     ]
    }
   ],
   "source": [
    "df.select(\"id\", \"problems\", \"treatments\", \"tests\").show(10, False)"
   ]
  },
  {
   "cell_type": "code",
   "execution_count": 11,
   "id": "d20248e1-b7d8-4e9e-a0a7-65f1475e6bc7",
   "metadata": {},
   "outputs": [],
   "source": [
    "# Getting all entities we have in the dataframe:"
   ]
  },
  {
   "cell_type": "code",
   "execution_count": 12,
   "id": "4b2feaff-9931-4b57-baa8-be7c8f92f497",
   "metadata": {},
   "outputs": [],
   "source": [
    "nested_entities = (\n",
    "    df\n",
    "    .select(\"id\", \"problems\", \"treatments\", \"tests\")\n",
    "    .rdd\n",
    "    .map(lambda row: list(row.asDict().values()))\n",
    "    .collect()\n",
    ")"
   ]
  },
  {
   "cell_type": "code",
   "execution_count": 13,
   "id": "694c4af0-c7c9-4185-9f7b-31ee18ab8992",
   "metadata": {},
   "outputs": [],
   "source": [
    "# Un-nesting the entities so we can run our graph parser properly"
   ]
  },
  {
   "cell_type": "code",
   "execution_count": 14,
   "id": "b12cde0e-510d-45d8-98ef-59468df067dd",
   "metadata": {},
   "outputs": [],
   "source": [
    "entities = []\n",
    "\n",
    "for row in nested_entities:\n",
    "    unnested_row = []\n",
    "    for element in row:\n",
    "        if type(element) == list:\n",
    "            unnested_row += element\n",
    "        else:\n",
    "            unnested_row.append(element)\n",
    "    entities.append(unnested_row)"
   ]
  },
  {
   "cell_type": "code",
   "execution_count": 15,
   "id": "281c46a6-a36c-4c0f-babc-c6b672d0d743",
   "metadata": {},
   "outputs": [
    {
     "data": {
      "text/plain": [
       "[['A0001', 'type 2 diabetes', 'insulin', 'a1c'],\n",
       " ['B0021', 'glaucoma', 'chronic back pain', 'vision loss', 'amitriptyline'],\n",
       " ['CA091', 'high blood pressure', 'losartan', 'retinal eye exam']]"
      ]
     },
     "execution_count": 15,
     "metadata": {},
     "output_type": "execute_result"
    }
   ],
   "source": [
    "entities"
   ]
  },
  {
   "cell_type": "markdown",
   "id": "a0420942-e411-4252-82f3-4274f0a5a8f9",
   "metadata": {},
   "source": [
    "### Building our boiler-plate ontology and play with semantic parsing:"
   ]
  },
  {
   "cell_type": "code",
   "execution_count": 16,
   "id": "5cf18920-b999-427e-8e5a-e2ef4575864a",
   "metadata": {},
   "outputs": [],
   "source": [
    "# Making my wanna_be-ontology:\n",
    "\n",
    "triples = \"\"\"A0001 ===> is_a ===> patient\n",
    "B0021 ===> is_a ===> patient\n",
    "CA091 ===> is_a ===> patient\n",
    "insulin ===> is_a ===> medication\n",
    "amitriptyline ===> is_a ===> medication\n",
    "losartan ===> is_a ===> medication\n",
    "a1c ===> is_a ===> test\n",
    "retinal eye exam ===> is_a ===> test\n",
    "type 2 diabetes ===> is_a ===> disease\n",
    "glaucoma ===> is_a ===> disease\n",
    "chronic back pain ===> is_a ===> disease\n",
    "vision loss ===> is_a ===> disease\n",
    "high blood pressure ===> is_a ===> disease\n",
    "patient ===> has ===> disease\n",
    "patient ===> takes ===> medication\n",
    "patient ===> performed ===> test\n",
    "insulin ===> can_treat ===> type 2 diabetes\n",
    "a1c ===> is_a_test_of ===> type 2 diabetes\n",
    "insulin ===> can_reduce ===> a1c\n",
    "amitriptyline ===> is_a ===> tricyclic antidepressant\n",
    "amitriptyline ===> can_treat ===> chronic back pain\n",
    "tricyclic antidepressant ===> has_negative_interaction ===> glaucoma\n",
    "glaucoma ===> can_be_associated_with ===> vision loss\n",
    "losartan ===> can_treat ===> high blood pressure\n",
    "high blood pressure ===> can_be_associated_with ===> hypertensive_retinopathy\n",
    "retinal eye exam ===> is_a_test_of ===> hypertensive_retinopathy\n",
    "hypertensive_retinopathy ===> is_a ===> disease\"\"\""
   ]
  },
  {
   "cell_type": "code",
   "execution_count": 19,
   "id": "9fa6cfac-6df0-4c66-a97e-ce8b7d864423",
   "metadata": {},
   "outputs": [
    {
     "data": {
      "text/plain": [
       "[triple(subject='A0001', predicate='is_a', object='patient'),\n",
       " triple(subject='B0021', predicate='is_a', object='patient'),\n",
       " triple(subject='CA091', predicate='is_a', object='patient'),\n",
       " triple(subject='insulin', predicate='is_a', object='medication'),\n",
       " triple(subject='amitriptyline', predicate='is_a', object='medication'),\n",
       " triple(subject='losartan', predicate='is_a', object='medication'),\n",
       " triple(subject='a1c', predicate='is_a', object='test'),\n",
       " triple(subject='retinal eye exam', predicate='is_a', object='test'),\n",
       " triple(subject='type 2 diabetes', predicate='is_a', object='disease'),\n",
       " triple(subject='glaucoma', predicate='is_a', object='disease'),\n",
       " triple(subject='chronic back pain', predicate='is_a', object='disease'),\n",
       " triple(subject='vision loss', predicate='is_a', object='disease'),\n",
       " triple(subject='high blood pressure', predicate='is_a', object='disease'),\n",
       " triple(subject='patient', predicate='has', object='disease'),\n",
       " triple(subject='patient', predicate='takes', object='medication'),\n",
       " triple(subject='patient', predicate='performed', object='test'),\n",
       " triple(subject='insulin', predicate='can_treat', object='type 2 diabetes'),\n",
       " triple(subject='a1c', predicate='is_a_test_of', object='type 2 diabetes'),\n",
       " triple(subject='insulin', predicate='can_reduce', object='a1c'),\n",
       " triple(subject='amitriptyline', predicate='is_a', object='tricyclic antidepressant'),\n",
       " triple(subject='amitriptyline', predicate='can_treat', object='chronic back pain'),\n",
       " triple(subject='tricyclic antidepressant', predicate='has_negative_interaction', object='glaucoma'),\n",
       " triple(subject='glaucoma', predicate='can_be_associated_with', object='vision loss'),\n",
       " triple(subject='losartan', predicate='can_treat', object='high blood pressure'),\n",
       " triple(subject='high blood pressure', predicate='can_be_associated_with', object='hypertensive_retinopathy'),\n",
       " triple(subject='retinal eye exam', predicate='is_a_test_of', object='hypertensive_retinopathy'),\n",
       " triple(subject='hypertensive_retinopathy', predicate='is_a', object='disease')]"
      ]
     },
     "execution_count": 19,
     "metadata": {},
     "output_type": "execute_result"
    }
   ],
   "source": [
    "triple_store = make_triplestore(triples)\n",
    "triple_store"
   ]
  },
  {
   "cell_type": "code",
   "execution_count": 20,
   "id": "dc72d77e-b078-4953-9a8a-448c2b0623ff",
   "metadata": {},
   "outputs": [],
   "source": [
    "# Displaying our knowledge graphs!"
   ]
  },
  {
   "cell_type": "code",
   "execution_count": 22,
   "id": "adb58580-9a82-4b31-8b10-1cbc8d90897c",
   "metadata": {},
   "outputs": [
    {
     "name": "stdout",
     "output_type": "stream",
     "text": [
      "KNOWLEDGE GRAPH FOR PATIENT ID A0001:\n",
      "\n"
     ]
    },
    {
     "data": {
      "image/svg+xml": [
       "<?xml version=\"1.0\" encoding=\"UTF-8\" standalone=\"no\"?>\n",
       "<!DOCTYPE svg PUBLIC \"-//W3C//DTD SVG 1.1//EN\"\n",
       " \"http://www.w3.org/Graphics/SVG/1.1/DTD/svg11.dtd\">\n",
       "<!-- Generated by graphviz version 2.49.0 (20210829.0051)\n",
       " -->\n",
       "<!-- Pages: 1 -->\n",
       "<svg width=\"500pt\" height=\"305pt\"\n",
       " viewBox=\"0.00 0.00 499.74 305.00\" xmlns=\"http://www.w3.org/2000/svg\" xmlns:xlink=\"http://www.w3.org/1999/xlink\">\n",
       "<g id=\"graph0\" class=\"graph\" transform=\"scale(1 1) rotate(0) translate(4 301)\">\n",
       "<polygon fill=\"white\" stroke=\"transparent\" points=\"-4,4 -4,-301 495.74,-301 495.74,4 -4,4\"/>\n",
       "<!-- A0001 -->\n",
       "<g id=\"node1\" class=\"node\">\n",
       "<title>A0001</title>\n",
       "<ellipse fill=\"none\" stroke=\"black\" cx=\"159.74\" cy=\"-279\" rx=\"40.09\" ry=\"18\"/>\n",
       "<text text-anchor=\"middle\" x=\"159.74\" y=\"-275.3\" font-family=\"Times,serif\" font-size=\"14.00\">A0001</text>\n",
       "</g>\n",
       "<!-- patient -->\n",
       "<g id=\"node2\" class=\"node\">\n",
       "<title>patient</title>\n",
       "<ellipse fill=\"none\" stroke=\"black\" cx=\"159.74\" cy=\"-192\" rx=\"44.39\" ry=\"18\"/>\n",
       "<text text-anchor=\"middle\" x=\"159.74\" y=\"-188.3\" font-family=\"Times,serif\" font-size=\"14.00\">patient</text>\n",
       "</g>\n",
       "<!-- A0001&#45;&gt;patient -->\n",
       "<g id=\"edge1\" class=\"edge\">\n",
       "<title>A0001&#45;&gt;patient</title>\n",
       "<path fill=\"none\" stroke=\"black\" d=\"M159.74,-260.8C159.74,-249.16 159.74,-233.55 159.74,-220.24\"/>\n",
       "<polygon fill=\"black\" stroke=\"black\" points=\"163.24,-220.18 159.74,-210.18 156.24,-220.18 163.24,-220.18\"/>\n",
       "<text text-anchor=\"middle\" x=\"173.74\" y=\"-231.8\" font-family=\"Times,serif\" font-size=\"14.00\">is_a</text>\n",
       "</g>\n",
       "<!-- medication -->\n",
       "<g id=\"node3\" class=\"node\">\n",
       "<title>medication</title>\n",
       "<ellipse fill=\"none\" stroke=\"black\" cx=\"61.74\" cy=\"-105\" rx=\"61.99\" ry=\"18\"/>\n",
       "<text text-anchor=\"middle\" x=\"61.74\" y=\"-101.3\" font-family=\"Times,serif\" font-size=\"14.00\">medication</text>\n",
       "</g>\n",
       "<!-- patient&#45;&gt;medication -->\n",
       "<g id=\"edge6\" class=\"edge\">\n",
       "<title>patient&#45;&gt;medication</title>\n",
       "<path fill=\"none\" stroke=\"black\" d=\"M135.6,-176.89C126.21,-170.94 115.6,-163.63 106.74,-156 97.89,-148.38 89.09,-139.08 81.64,-130.58\"/>\n",
       "<polygon fill=\"black\" stroke=\"black\" points=\"84.12,-128.09 74.97,-122.75 78.79,-132.63 84.12,-128.09\"/>\n",
       "<text text-anchor=\"middle\" x=\"126.24\" y=\"-144.8\" font-family=\"Times,serif\" font-size=\"14.00\">takes</text>\n",
       "</g>\n",
       "<!-- test -->\n",
       "<g id=\"node5\" class=\"node\">\n",
       "<title>test</title>\n",
       "<ellipse fill=\"none\" stroke=\"black\" cx=\"231.74\" cy=\"-105\" rx=\"28.7\" ry=\"18\"/>\n",
       "<text text-anchor=\"middle\" x=\"231.74\" y=\"-101.3\" font-family=\"Times,serif\" font-size=\"14.00\">test</text>\n",
       "</g>\n",
       "<!-- patient&#45;&gt;test -->\n",
       "<g id=\"edge7\" class=\"edge\">\n",
       "<title>patient&#45;&gt;test</title>\n",
       "<path fill=\"none\" stroke=\"black\" d=\"M169.87,-174.1C176.2,-164.07 184.83,-151.33 193.74,-141 197.97,-136.1 202.84,-131.18 207.65,-126.64\"/>\n",
       "<polygon fill=\"black\" stroke=\"black\" points=\"210.03,-129.2 215.05,-119.88 205.31,-124.04 210.03,-129.2\"/>\n",
       "<text text-anchor=\"middle\" x=\"231.74\" y=\"-144.8\" font-family=\"Times,serif\" font-size=\"14.00\">performed</text>\n",
       "</g>\n",
       "<!-- disease -->\n",
       "<g id=\"node7\" class=\"node\">\n",
       "<title>disease</title>\n",
       "<ellipse fill=\"none\" stroke=\"black\" cx=\"175.74\" cy=\"-18\" rx=\"45.49\" ry=\"18\"/>\n",
       "<text text-anchor=\"middle\" x=\"175.74\" y=\"-14.3\" font-family=\"Times,serif\" font-size=\"14.00\">disease</text>\n",
       "</g>\n",
       "<!-- patient&#45;&gt;disease -->\n",
       "<g id=\"edge5\" class=\"edge\">\n",
       "<title>patient&#45;&gt;disease</title>\n",
       "<path fill=\"none\" stroke=\"black\" d=\"M161.16,-173.69C162.86,-153.05 165.86,-117.49 168.74,-87 170.02,-73.57 171.54,-58.65 172.84,-46.22\"/>\n",
       "<polygon fill=\"black\" stroke=\"black\" points=\"176.35,-46.35 173.91,-36.04 169.38,-45.62 176.35,-46.35\"/>\n",
       "<text text-anchor=\"middle\" x=\"181.24\" y=\"-101.3\" font-family=\"Times,serif\" font-size=\"14.00\">has</text>\n",
       "</g>\n",
       "<!-- insulin -->\n",
       "<g id=\"node4\" class=\"node\">\n",
       "<title>insulin</title>\n",
       "<ellipse fill=\"none\" stroke=\"black\" cx=\"316.74\" cy=\"-279\" rx=\"42.49\" ry=\"18\"/>\n",
       "<text text-anchor=\"middle\" x=\"316.74\" y=\"-275.3\" font-family=\"Times,serif\" font-size=\"14.00\">insulin</text>\n",
       "</g>\n",
       "<!-- insulin&#45;&gt;medication -->\n",
       "<g id=\"edge2\" class=\"edge\">\n",
       "<title>insulin&#45;&gt;medication</title>\n",
       "<path fill=\"none\" stroke=\"black\" d=\"M277.14,-272.36C216.01,-262.76 103.17,-241.22 78.74,-210 61.71,-188.23 58.86,-155.94 59.39,-133.12\"/>\n",
       "<polygon fill=\"black\" stroke=\"black\" points=\"62.89,-133.22 59.85,-123.07 55.89,-132.9 62.89,-133.22\"/>\n",
       "<text text-anchor=\"middle\" x=\"92.74\" y=\"-188.3\" font-family=\"Times,serif\" font-size=\"14.00\">is_a</text>\n",
       "</g>\n",
       "<!-- a1c -->\n",
       "<g id=\"node6\" class=\"node\">\n",
       "<title>a1c</title>\n",
       "<ellipse fill=\"none\" stroke=\"black\" cx=\"316.74\" cy=\"-192\" rx=\"27\" ry=\"18\"/>\n",
       "<text text-anchor=\"middle\" x=\"316.74\" y=\"-188.3\" font-family=\"Times,serif\" font-size=\"14.00\">a1c</text>\n",
       "</g>\n",
       "<!-- insulin&#45;&gt;a1c -->\n",
       "<g id=\"edge10\" class=\"edge\">\n",
       "<title>insulin&#45;&gt;a1c</title>\n",
       "<path fill=\"none\" stroke=\"black\" d=\"M316.74,-260.8C316.74,-249.16 316.74,-233.55 316.74,-220.24\"/>\n",
       "<polygon fill=\"black\" stroke=\"black\" points=\"320.24,-220.18 316.74,-210.18 313.24,-220.18 320.24,-220.18\"/>\n",
       "<text text-anchor=\"middle\" x=\"357.24\" y=\"-231.8\" font-family=\"Times,serif\" font-size=\"14.00\">can_reduce</text>\n",
       "</g>\n",
       "<!-- type 2 diabetes -->\n",
       "<g id=\"node8\" class=\"node\">\n",
       "<title>type 2 diabetes</title>\n",
       "<ellipse fill=\"none\" stroke=\"black\" cx=\"360.74\" cy=\"-105\" rx=\"82.59\" ry=\"18\"/>\n",
       "<text text-anchor=\"middle\" x=\"360.74\" y=\"-101.3\" font-family=\"Times,serif\" font-size=\"14.00\">type 2 diabetes</text>\n",
       "</g>\n",
       "<!-- insulin&#45;&gt;type 2 diabetes -->\n",
       "<g id=\"edge8\" class=\"edge\">\n",
       "<title>insulin&#45;&gt;type 2 diabetes</title>\n",
       "<path fill=\"none\" stroke=\"black\" d=\"M354.19,-270.48C370.87,-265.35 389.47,-256.86 401.74,-243 428.33,-212.97 420.36,-195.75 425.74,-156 426.64,-149.39 429.16,-146.72 425.74,-141 422.26,-135.16 417.42,-130.24 411.95,-126.1\"/>\n",
       "<polygon fill=\"black\" stroke=\"black\" points=\"413.83,-123.15 403.55,-120.59 409.99,-129 413.83,-123.15\"/>\n",
       "<text text-anchor=\"middle\" x=\"458.24\" y=\"-188.3\" font-family=\"Times,serif\" font-size=\"14.00\">can_treat</text>\n",
       "</g>\n",
       "<!-- a1c&#45;&gt;test -->\n",
       "<g id=\"edge3\" class=\"edge\">\n",
       "<title>a1c&#45;&gt;test</title>\n",
       "<path fill=\"none\" stroke=\"black\" d=\"M303.44,-176.3C294.17,-166.19 281.43,-152.57 269.74,-141 265.06,-136.36 259.93,-131.5 255,-126.93\"/>\n",
       "<polygon fill=\"black\" stroke=\"black\" points=\"257.25,-124.24 247.51,-120.06 252.51,-129.4 257.25,-124.24\"/>\n",
       "<text text-anchor=\"middle\" x=\"298.74\" y=\"-144.8\" font-family=\"Times,serif\" font-size=\"14.00\">is_a</text>\n",
       "</g>\n",
       "<!-- a1c&#45;&gt;type 2 diabetes -->\n",
       "<g id=\"edge9\" class=\"edge\">\n",
       "<title>a1c&#45;&gt;type 2 diabetes</title>\n",
       "<path fill=\"none\" stroke=\"black\" d=\"M325.23,-174.61C331.48,-162.54 340.1,-145.88 347.29,-132\"/>\n",
       "<polygon fill=\"black\" stroke=\"black\" points=\"350.5,-133.41 351.99,-122.92 344.28,-130.19 350.5,-133.41\"/>\n",
       "<text text-anchor=\"middle\" x=\"382.74\" y=\"-144.8\" font-family=\"Times,serif\" font-size=\"14.00\">is_a_test_of</text>\n",
       "</g>\n",
       "<!-- type 2 diabetes&#45;&gt;disease -->\n",
       "<g id=\"edge4\" class=\"edge\">\n",
       "<title>type 2 diabetes&#45;&gt;disease</title>\n",
       "<path fill=\"none\" stroke=\"black\" d=\"M326.81,-88.41C294.82,-73.71 246.94,-51.71 213.69,-36.44\"/>\n",
       "<polygon fill=\"black\" stroke=\"black\" points=\"214.85,-33.12 204.31,-32.12 211.93,-39.48 214.85,-33.12\"/>\n",
       "<text text-anchor=\"middle\" x=\"293.74\" y=\"-57.8\" font-family=\"Times,serif\" font-size=\"14.00\">is_a</text>\n",
       "</g>\n",
       "</g>\n",
       "</svg>\n"
      ],
      "text/plain": [
       "<graphviz.dot.Digraph at 0x7f053231cfd0>"
      ]
     },
     "metadata": {},
     "output_type": "display_data"
    },
    {
     "name": "stdout",
     "output_type": "stream",
     "text": [
      "\n",
      " ====================================== \n",
      "\n",
      "KNOWLEDGE GRAPH FOR PATIENT ID B0021:\n",
      "\n"
     ]
    },
    {
     "data": {
      "image/svg+xml": [
       "<?xml version=\"1.0\" encoding=\"UTF-8\" standalone=\"no\"?>\n",
       "<!DOCTYPE svg PUBLIC \"-//W3C//DTD SVG 1.1//EN\"\n",
       " \"http://www.w3.org/Graphics/SVG/1.1/DTD/svg11.dtd\">\n",
       "<!-- Generated by graphviz version 2.49.0 (20210829.0051)\n",
       " -->\n",
       "<!-- Pages: 1 -->\n",
       "<svg width=\"598pt\" height=\"500pt\"\n",
       " viewBox=\"0.00 0.00 598.24 500.00\" xmlns=\"http://www.w3.org/2000/svg\" xmlns:xlink=\"http://www.w3.org/1999/xlink\">\n",
       "<g id=\"graph0\" class=\"graph\" transform=\"scale(1 1) rotate(0) translate(4 496)\">\n",
       "<polygon fill=\"white\" stroke=\"transparent\" points=\"-4,4 -4,-496 594.24,-496 594.24,4 -4,4\"/>\n",
       "<!-- vision loss -->\n",
       "<g id=\"node1\" class=\"node\">\n",
       "<title>vision loss</title>\n",
       "<ellipse fill=\"none\" stroke=\"black\" cx=\"271.24\" cy=\"-105\" rx=\"59.29\" ry=\"18\"/>\n",
       "<text text-anchor=\"middle\" x=\"271.24\" y=\"-101.3\" font-family=\"Times,serif\" font-size=\"14.00\">vision loss</text>\n",
       "</g>\n",
       "<!-- disease -->\n",
       "<g id=\"node6\" class=\"node\">\n",
       "<title>disease</title>\n",
       "<ellipse fill=\"none\" stroke=\"black\" cx=\"349.24\" cy=\"-18\" rx=\"45.49\" ry=\"18\"/>\n",
       "<text text-anchor=\"middle\" x=\"349.24\" y=\"-14.3\" font-family=\"Times,serif\" font-size=\"14.00\">disease</text>\n",
       "</g>\n",
       "<!-- vision loss&#45;&gt;disease -->\n",
       "<g id=\"edge5\" class=\"edge\">\n",
       "<title>vision loss&#45;&gt;disease</title>\n",
       "<path fill=\"none\" stroke=\"black\" d=\"M286.65,-87.21C298.34,-74.47 314.55,-56.8 327.55,-42.64\"/>\n",
       "<polygon fill=\"black\" stroke=\"black\" points=\"330.21,-44.92 334.39,-35.18 325.05,-40.18 330.21,-44.92\"/>\n",
       "<text text-anchor=\"middle\" x=\"329.24\" y=\"-57.8\" font-family=\"Times,serif\" font-size=\"14.00\">is_a</text>\n",
       "</g>\n",
       "<!-- patient -->\n",
       "<g id=\"node2\" class=\"node\">\n",
       "<title>patient</title>\n",
       "<ellipse fill=\"none\" stroke=\"black\" cx=\"482.24\" cy=\"-387\" rx=\"44.39\" ry=\"18\"/>\n",
       "<text text-anchor=\"middle\" x=\"482.24\" y=\"-383.3\" font-family=\"Times,serif\" font-size=\"14.00\">patient</text>\n",
       "</g>\n",
       "<!-- medication -->\n",
       "<g id=\"node4\" class=\"node\">\n",
       "<title>medication</title>\n",
       "<ellipse fill=\"none\" stroke=\"black\" cx=\"385.24\" cy=\"-300\" rx=\"61.99\" ry=\"18\"/>\n",
       "<text text-anchor=\"middle\" x=\"385.24\" y=\"-296.3\" font-family=\"Times,serif\" font-size=\"14.00\">medication</text>\n",
       "</g>\n",
       "<!-- patient&#45;&gt;medication -->\n",
       "<g id=\"edge7\" class=\"edge\">\n",
       "<title>patient&#45;&gt;medication</title>\n",
       "<path fill=\"none\" stroke=\"black\" d=\"M457.79,-371.77C448.46,-365.86 437.97,-358.6 429.24,-351 420.52,-343.4 411.89,-334.11 404.62,-325.61\"/>\n",
       "<polygon fill=\"black\" stroke=\"black\" points=\"407.19,-323.22 398.11,-317.77 401.81,-327.7 407.19,-323.22\"/>\n",
       "<text text-anchor=\"middle\" x=\"448.74\" y=\"-339.8\" font-family=\"Times,serif\" font-size=\"14.00\">takes</text>\n",
       "</g>\n",
       "<!-- patient&#45;&gt;disease -->\n",
       "<g id=\"edge6\" class=\"edge\">\n",
       "<title>patient&#45;&gt;disease</title>\n",
       "<path fill=\"none\" stroke=\"black\" d=\"M482.24,-368.74C482.24,-351.57 482.24,-324.46 482.24,-301 482.24,-301 482.24,-301 482.24,-104 482.24,-63 436.8,-40.89 399.04,-29.59\"/>\n",
       "<polygon fill=\"black\" stroke=\"black\" points=\"399.72,-26.15 389.14,-26.82 397.83,-32.89 399.72,-26.15\"/>\n",
       "<text text-anchor=\"middle\" x=\"494.74\" y=\"-188.3\" font-family=\"Times,serif\" font-size=\"14.00\">has</text>\n",
       "</g>\n",
       "<!-- test -->\n",
       "<g id=\"node9\" class=\"node\">\n",
       "<title>test</title>\n",
       "<ellipse fill=\"none\" stroke=\"black\" cx=\"539.24\" cy=\"-300\" rx=\"28.7\" ry=\"18\"/>\n",
       "<text text-anchor=\"middle\" x=\"539.24\" y=\"-296.3\" font-family=\"Times,serif\" font-size=\"14.00\">test</text>\n",
       "</g>\n",
       "<!-- patient&#45;&gt;test -->\n",
       "<g id=\"edge8\" class=\"edge\">\n",
       "<title>patient&#45;&gt;test</title>\n",
       "<path fill=\"none\" stroke=\"black\" d=\"M493.5,-369.21C501.86,-356.74 513.38,-339.56 522.77,-325.56\"/>\n",
       "<polygon fill=\"black\" stroke=\"black\" points=\"525.92,-327.15 528.58,-316.9 520.1,-323.25 525.92,-327.15\"/>\n",
       "<text text-anchor=\"middle\" x=\"552.24\" y=\"-339.8\" font-family=\"Times,serif\" font-size=\"14.00\">performed</text>\n",
       "</g>\n",
       "<!-- B0021 -->\n",
       "<g id=\"node3\" class=\"node\">\n",
       "<title>B0021</title>\n",
       "<ellipse fill=\"none\" stroke=\"black\" cx=\"482.24\" cy=\"-474\" rx=\"40.89\" ry=\"18\"/>\n",
       "<text text-anchor=\"middle\" x=\"482.24\" y=\"-470.3\" font-family=\"Times,serif\" font-size=\"14.00\">B0021</text>\n",
       "</g>\n",
       "<!-- B0021&#45;&gt;patient -->\n",
       "<g id=\"edge1\" class=\"edge\">\n",
       "<title>B0021&#45;&gt;patient</title>\n",
       "<path fill=\"none\" stroke=\"black\" d=\"M482.24,-455.8C482.24,-444.16 482.24,-428.55 482.24,-415.24\"/>\n",
       "<polygon fill=\"black\" stroke=\"black\" points=\"485.74,-415.18 482.24,-405.18 478.74,-415.18 485.74,-415.18\"/>\n",
       "<text text-anchor=\"middle\" x=\"496.24\" y=\"-426.8\" font-family=\"Times,serif\" font-size=\"14.00\">is_a</text>\n",
       "</g>\n",
       "<!-- amitriptyline -->\n",
       "<g id=\"node5\" class=\"node\">\n",
       "<title>amitriptyline</title>\n",
       "<ellipse fill=\"none\" stroke=\"black\" cx=\"287.24\" cy=\"-387\" rx=\"71.49\" ry=\"18\"/>\n",
       "<text text-anchor=\"middle\" x=\"287.24\" y=\"-383.3\" font-family=\"Times,serif\" font-size=\"14.00\">amitriptyline</text>\n",
       "</g>\n",
       "<!-- amitriptyline&#45;&gt;medication -->\n",
       "<g id=\"edge2\" class=\"edge\">\n",
       "<title>amitriptyline&#45;&gt;medication</title>\n",
       "<path fill=\"none\" stroke=\"black\" d=\"M324.23,-371.59C335.04,-366.22 346.33,-359.35 355.24,-351 362.43,-344.26 368.49,-335.42 373.24,-327.04\"/>\n",
       "<polygon fill=\"black\" stroke=\"black\" points=\"376.48,-328.4 378.04,-317.92 370.28,-325.15 376.48,-328.4\"/>\n",
       "<text text-anchor=\"middle\" x=\"382.24\" y=\"-339.8\" font-family=\"Times,serif\" font-size=\"14.00\">is_a</text>\n",
       "</g>\n",
       "<!-- chronic back pain -->\n",
       "<g id=\"node8\" class=\"node\">\n",
       "<title>chronic back pain</title>\n",
       "<ellipse fill=\"none\" stroke=\"black\" cx=\"375.24\" cy=\"-246\" rx=\"92.08\" ry=\"18\"/>\n",
       "<text text-anchor=\"middle\" x=\"375.24\" y=\"-242.3\" font-family=\"Times,serif\" font-size=\"14.00\">chronic back pain</text>\n",
       "</g>\n",
       "<!-- amitriptyline&#45;&gt;chronic back pain -->\n",
       "<g id=\"edge10\" class=\"edge\">\n",
       "<title>amitriptyline&#45;&gt;chronic back pain</title>\n",
       "<path fill=\"none\" stroke=\"black\" d=\"M283.58,-368.62C282.17,-358.89 281.49,-346.61 284.24,-336 291.13,-309.42 294.96,-301.55 314.24,-282 319.37,-276.8 325.43,-272.12 331.71,-268\"/>\n",
       "<polygon fill=\"black\" stroke=\"black\" points=\"333.63,-270.93 340.34,-262.73 329.98,-264.95 333.63,-270.93\"/>\n",
       "<text text-anchor=\"middle\" x=\"317.74\" y=\"-339.8\" font-family=\"Times,serif\" font-size=\"14.00\">can_treat</text>\n",
       "</g>\n",
       "<!-- tricyclic antidepressant -->\n",
       "<g id=\"node10\" class=\"node\">\n",
       "<title>tricyclic antidepressant</title>\n",
       "<ellipse fill=\"none\" stroke=\"black\" cx=\"120.24\" cy=\"-300\" rx=\"120.48\" ry=\"18\"/>\n",
       "<text text-anchor=\"middle\" x=\"120.24\" y=\"-296.3\" font-family=\"Times,serif\" font-size=\"14.00\">tricyclic antidepressant</text>\n",
       "</g>\n",
       "<!-- amitriptyline&#45;&gt;tricyclic antidepressant -->\n",
       "<g id=\"edge9\" class=\"edge\">\n",
       "<title>amitriptyline&#45;&gt;tricyclic antidepressant</title>\n",
       "<path fill=\"none\" stroke=\"black\" d=\"M257,-370.61C230.37,-357.05 191.33,-337.18 161.77,-322.14\"/>\n",
       "<polygon fill=\"black\" stroke=\"black\" points=\"163.04,-318.86 152.54,-317.44 159.86,-325.09 163.04,-318.86\"/>\n",
       "<text text-anchor=\"middle\" x=\"228.24\" y=\"-339.8\" font-family=\"Times,serif\" font-size=\"14.00\">is_a</text>\n",
       "</g>\n",
       "<!-- glaucoma -->\n",
       "<g id=\"node7\" class=\"node\">\n",
       "<title>glaucoma</title>\n",
       "<ellipse fill=\"none\" stroke=\"black\" cx=\"150.24\" cy=\"-192\" rx=\"55.49\" ry=\"18\"/>\n",
       "<text text-anchor=\"middle\" x=\"150.24\" y=\"-188.3\" font-family=\"Times,serif\" font-size=\"14.00\">glaucoma</text>\n",
       "</g>\n",
       "<!-- glaucoma&#45;&gt;vision loss -->\n",
       "<g id=\"edge12\" class=\"edge\">\n",
       "<title>glaucoma&#45;&gt;vision loss</title>\n",
       "<path fill=\"none\" stroke=\"black\" d=\"M158.58,-173.77C164.48,-163.11 173.28,-149.82 184.24,-141 194.34,-132.86 206.59,-126.4 218.66,-121.36\"/>\n",
       "<polygon fill=\"black\" stroke=\"black\" points=\"220.22,-124.51 228.26,-117.61 217.68,-117.98 220.22,-124.51\"/>\n",
       "<text text-anchor=\"middle\" x=\"268.74\" y=\"-144.8\" font-family=\"Times,serif\" font-size=\"14.00\">can_be_associated_with</text>\n",
       "</g>\n",
       "<!-- glaucoma&#45;&gt;disease -->\n",
       "<g id=\"edge3\" class=\"edge\">\n",
       "<title>glaucoma&#45;&gt;disease</title>\n",
       "<path fill=\"none\" stroke=\"black\" d=\"M149.75,-173.71C150.04,-151.1 153.88,-111.49 175.24,-87 205.96,-51.77 257.24,-34.65 296.19,-26.42\"/>\n",
       "<polygon fill=\"black\" stroke=\"black\" points=\"297.18,-29.8 306.31,-24.42 295.82,-22.93 297.18,-29.8\"/>\n",
       "<text text-anchor=\"middle\" x=\"189.24\" y=\"-101.3\" font-family=\"Times,serif\" font-size=\"14.00\">is_a</text>\n",
       "</g>\n",
       "<!-- chronic back pain&#45;&gt;disease -->\n",
       "<g id=\"edge4\" class=\"edge\">\n",
       "<title>chronic back pain&#45;&gt;disease</title>\n",
       "<path fill=\"none\" stroke=\"black\" d=\"M373.24,-227.64C368.74,-188.52 357.78,-93.21 352.37,-46.17\"/>\n",
       "<polygon fill=\"black\" stroke=\"black\" points=\"355.83,-45.64 351.21,-36.11 348.87,-46.44 355.83,-45.64\"/>\n",
       "<text text-anchor=\"middle\" x=\"379.24\" y=\"-144.8\" font-family=\"Times,serif\" font-size=\"14.00\">is_a</text>\n",
       "</g>\n",
       "<!-- tricyclic antidepressant&#45;&gt;glaucoma -->\n",
       "<g id=\"edge11\" class=\"edge\">\n",
       "<title>tricyclic antidepressant&#45;&gt;glaucoma</title>\n",
       "<path fill=\"none\" stroke=\"black\" d=\"M105.53,-281.93C101.75,-276.54 98.2,-270.33 96.24,-264 91.5,-248.72 88.6,-242.06 96.24,-228 99.5,-222 104.29,-216.87 109.68,-212.53\"/>\n",
       "<polygon fill=\"black\" stroke=\"black\" points=\"111.74,-215.36 117.91,-206.74 107.72,-209.63 111.74,-215.36\"/>\n",
       "<text text-anchor=\"middle\" x=\"185.24\" y=\"-242.3\" font-family=\"Times,serif\" font-size=\"14.00\">has_negative_interaction</text>\n",
       "</g>\n",
       "</g>\n",
       "</svg>\n"
      ],
      "text/plain": [
       "<graphviz.dot.Digraph at 0x7f054c62c190>"
      ]
     },
     "metadata": {},
     "output_type": "display_data"
    },
    {
     "name": "stdout",
     "output_type": "stream",
     "text": [
      "\n",
      " ====================================== \n",
      "\n",
      "KNOWLEDGE GRAPH FOR PATIENT ID CA091:\n",
      "\n"
     ]
    },
    {
     "data": {
      "image/svg+xml": [
       "<?xml version=\"1.0\" encoding=\"UTF-8\" standalone=\"no\"?>\n",
       "<!DOCTYPE svg PUBLIC \"-//W3C//DTD SVG 1.1//EN\"\n",
       " \"http://www.w3.org/Graphics/SVG/1.1/DTD/svg11.dtd\">\n",
       "<!-- Generated by graphviz version 2.49.0 (20210829.0051)\n",
       " -->\n",
       "<!-- Pages: 1 -->\n",
       "<svg width=\"645pt\" height=\"305pt\"\n",
       " viewBox=\"0.00 0.00 645.34 305.00\" xmlns=\"http://www.w3.org/2000/svg\" xmlns:xlink=\"http://www.w3.org/1999/xlink\">\n",
       "<g id=\"graph0\" class=\"graph\" transform=\"scale(1 1) rotate(0) translate(4 301)\">\n",
       "<polygon fill=\"white\" stroke=\"transparent\" points=\"-4,4 -4,-301 641.34,-301 641.34,4 -4,4\"/>\n",
       "<!-- retinal eye exam -->\n",
       "<g id=\"node1\" class=\"node\">\n",
       "<title>retinal eye exam</title>\n",
       "<ellipse fill=\"none\" stroke=\"black\" cx=\"316.34\" cy=\"-192\" rx=\"88.28\" ry=\"18\"/>\n",
       "<text text-anchor=\"middle\" x=\"316.34\" y=\"-188.3\" font-family=\"Times,serif\" font-size=\"14.00\">retinal eye exam</text>\n",
       "</g>\n",
       "<!-- test -->\n",
       "<g id=\"node6\" class=\"node\">\n",
       "<title>test</title>\n",
       "<ellipse fill=\"none\" stroke=\"black\" cx=\"423.34\" cy=\"-105\" rx=\"28.7\" ry=\"18\"/>\n",
       "<text text-anchor=\"middle\" x=\"423.34\" y=\"-101.3\" font-family=\"Times,serif\" font-size=\"14.00\">test</text>\n",
       "</g>\n",
       "<!-- retinal eye exam&#45;&gt;test -->\n",
       "<g id=\"edge3\" class=\"edge\">\n",
       "<title>retinal eye exam&#45;&gt;test</title>\n",
       "<path fill=\"none\" stroke=\"black\" d=\"M344.78,-174.88C353.87,-169.3 363.78,-162.74 372.34,-156 383,-147.61 393.86,-137.26 402.8,-128.16\"/>\n",
       "<polygon fill=\"black\" stroke=\"black\" points=\"405.4,-130.51 409.82,-120.88 400.36,-125.65 405.4,-130.51\"/>\n",
       "<text text-anchor=\"middle\" x=\"403.34\" y=\"-144.8\" font-family=\"Times,serif\" font-size=\"14.00\">is_a</text>\n",
       "</g>\n",
       "<!-- hypertensive_retinopathy -->\n",
       "<g id=\"node9\" class=\"node\">\n",
       "<title>hypertensive_retinopathy</title>\n",
       "<ellipse fill=\"none\" stroke=\"black\" cx=\"246.34\" cy=\"-105\" rx=\"129.98\" ry=\"18\"/>\n",
       "<text text-anchor=\"middle\" x=\"246.34\" y=\"-101.3\" font-family=\"Times,serif\" font-size=\"14.00\">hypertensive_retinopathy</text>\n",
       "</g>\n",
       "<!-- retinal eye exam&#45;&gt;hypertensive_retinopathy -->\n",
       "<g id=\"edge10\" class=\"edge\">\n",
       "<title>retinal eye exam&#45;&gt;hypertensive_retinopathy</title>\n",
       "<path fill=\"none\" stroke=\"black\" d=\"M302.51,-174.21C292.32,-161.83 278.29,-144.8 266.8,-130.85\"/>\n",
       "<polygon fill=\"black\" stroke=\"black\" points=\"269.44,-128.54 260.38,-123.05 264.04,-132.99 269.44,-128.54\"/>\n",
       "<text text-anchor=\"middle\" x=\"327.34\" y=\"-144.8\" font-family=\"Times,serif\" font-size=\"14.00\">is_a_test_of</text>\n",
       "</g>\n",
       "<!-- patient -->\n",
       "<g id=\"node2\" class=\"node\">\n",
       "<title>patient</title>\n",
       "<ellipse fill=\"none\" stroke=\"black\" cx=\"575.34\" cy=\"-192\" rx=\"44.39\" ry=\"18\"/>\n",
       "<text text-anchor=\"middle\" x=\"575.34\" y=\"-188.3\" font-family=\"Times,serif\" font-size=\"14.00\">patient</text>\n",
       "</g>\n",
       "<!-- medication -->\n",
       "<g id=\"node4\" class=\"node\">\n",
       "<title>medication</title>\n",
       "<ellipse fill=\"none\" stroke=\"black\" cx=\"531.34\" cy=\"-105\" rx=\"61.99\" ry=\"18\"/>\n",
       "<text text-anchor=\"middle\" x=\"531.34\" y=\"-101.3\" font-family=\"Times,serif\" font-size=\"14.00\">medication</text>\n",
       "</g>\n",
       "<!-- patient&#45;&gt;medication -->\n",
       "<g id=\"edge6\" class=\"edge\">\n",
       "<title>patient&#45;&gt;medication</title>\n",
       "<path fill=\"none\" stroke=\"black\" d=\"M568.61,-174.04C564.53,-164.22 559.03,-151.72 553.34,-141 551.68,-137.86 549.83,-134.63 547.94,-131.45\"/>\n",
       "<polygon fill=\"black\" stroke=\"black\" points=\"550.83,-129.46 542.6,-122.79 544.87,-133.14 550.83,-129.46\"/>\n",
       "<text text-anchor=\"middle\" x=\"580.84\" y=\"-144.8\" font-family=\"Times,serif\" font-size=\"14.00\">takes</text>\n",
       "</g>\n",
       "<!-- patient&#45;&gt;test -->\n",
       "<g id=\"edge7\" class=\"edge\">\n",
       "<title>patient&#45;&gt;test</title>\n",
       "<path fill=\"none\" stroke=\"black\" d=\"M537.66,-182.48C517.58,-176.89 493.03,-168.29 473.34,-156 461.79,-148.79 450.86,-138.44 442.18,-129.02\"/>\n",
       "<polygon fill=\"black\" stroke=\"black\" points=\"444.71,-126.59 435.46,-121.42 439.46,-131.23 444.71,-126.59\"/>\n",
       "<text text-anchor=\"middle\" x=\"511.34\" y=\"-144.8\" font-family=\"Times,serif\" font-size=\"14.00\">performed</text>\n",
       "</g>\n",
       "<!-- disease -->\n",
       "<g id=\"node7\" class=\"node\">\n",
       "<title>disease</title>\n",
       "<ellipse fill=\"none\" stroke=\"black\" cx=\"246.34\" cy=\"-18\" rx=\"45.49\" ry=\"18\"/>\n",
       "<text text-anchor=\"middle\" x=\"246.34\" y=\"-14.3\" font-family=\"Times,serif\" font-size=\"14.00\">disease</text>\n",
       "</g>\n",
       "<!-- patient&#45;&gt;disease -->\n",
       "<g id=\"edge5\" class=\"edge\">\n",
       "<title>patient&#45;&gt;disease</title>\n",
       "<path fill=\"none\" stroke=\"black\" d=\"M592.46,-175.07C597.25,-169.55 601.83,-162.98 604.34,-156 610.21,-139.71 620.58,-108.23 602.34,-87 564,-42.36 391.65,-26.65 301.57,-21.43\"/>\n",
       "<polygon fill=\"black\" stroke=\"black\" points=\"301.72,-17.93 291.54,-20.87 301.33,-24.92 301.72,-17.93\"/>\n",
       "<text text-anchor=\"middle\" x=\"624.84\" y=\"-101.3\" font-family=\"Times,serif\" font-size=\"14.00\">has</text>\n",
       "</g>\n",
       "<!-- CA091 -->\n",
       "<g id=\"node3\" class=\"node\">\n",
       "<title>CA091</title>\n",
       "<ellipse fill=\"none\" stroke=\"black\" cx=\"575.34\" cy=\"-279\" rx=\"41.69\" ry=\"18\"/>\n",
       "<text text-anchor=\"middle\" x=\"575.34\" y=\"-275.3\" font-family=\"Times,serif\" font-size=\"14.00\">CA091</text>\n",
       "</g>\n",
       "<!-- CA091&#45;&gt;patient -->\n",
       "<g id=\"edge1\" class=\"edge\">\n",
       "<title>CA091&#45;&gt;patient</title>\n",
       "<path fill=\"none\" stroke=\"black\" d=\"M575.34,-260.8C575.34,-249.16 575.34,-233.55 575.34,-220.24\"/>\n",
       "<polygon fill=\"black\" stroke=\"black\" points=\"578.84,-220.18 575.34,-210.18 571.84,-220.18 578.84,-220.18\"/>\n",
       "<text text-anchor=\"middle\" x=\"589.34\" y=\"-231.8\" font-family=\"Times,serif\" font-size=\"14.00\">is_a</text>\n",
       "</g>\n",
       "<!-- losartan -->\n",
       "<g id=\"node5\" class=\"node\">\n",
       "<title>losartan</title>\n",
       "<ellipse fill=\"none\" stroke=\"black\" cx=\"338.34\" cy=\"-279\" rx=\"48.99\" ry=\"18\"/>\n",
       "<text text-anchor=\"middle\" x=\"338.34\" y=\"-275.3\" font-family=\"Times,serif\" font-size=\"14.00\">losartan</text>\n",
       "</g>\n",
       "<!-- losartan&#45;&gt;medication -->\n",
       "<g id=\"edge2\" class=\"edge\">\n",
       "<title>losartan&#45;&gt;medication</title>\n",
       "<path fill=\"none\" stroke=\"black\" d=\"M358.17,-262.52C374.12,-249.5 396.56,-229.88 413.34,-210 436.8,-182.2 430.06,-165.05 457.34,-141 465.18,-134.09 474.62,-128.27 484.09,-123.47\"/>\n",
       "<polygon fill=\"black\" stroke=\"black\" points=\"485.59,-126.63 493.13,-119.18 482.59,-120.3 485.59,-126.63\"/>\n",
       "<text text-anchor=\"middle\" x=\"448.34\" y=\"-188.3\" font-family=\"Times,serif\" font-size=\"14.00\">is_a</text>\n",
       "</g>\n",
       "<!-- high blood pressure -->\n",
       "<g id=\"node8\" class=\"node\">\n",
       "<title>high blood pressure</title>\n",
       "<ellipse fill=\"none\" stroke=\"black\" cx=\"103.34\" cy=\"-192\" rx=\"103.18\" ry=\"18\"/>\n",
       "<text text-anchor=\"middle\" x=\"103.34\" y=\"-188.3\" font-family=\"Times,serif\" font-size=\"14.00\">high blood pressure</text>\n",
       "</g>\n",
       "<!-- losartan&#45;&gt;high blood pressure -->\n",
       "<g id=\"edge8\" class=\"edge\">\n",
       "<title>losartan&#45;&gt;high blood pressure</title>\n",
       "<path fill=\"none\" stroke=\"black\" d=\"M304.67,-265.82C265.77,-251.75 201.29,-228.43 155.8,-211.98\"/>\n",
       "<polygon fill=\"black\" stroke=\"black\" points=\"156.71,-208.58 146.11,-208.47 154.33,-215.16 156.71,-208.58\"/>\n",
       "<text text-anchor=\"middle\" x=\"268.84\" y=\"-231.8\" font-family=\"Times,serif\" font-size=\"14.00\">can_treat</text>\n",
       "</g>\n",
       "<!-- high blood pressure&#45;&gt;disease -->\n",
       "<g id=\"edge4\" class=\"edge\">\n",
       "<title>high blood pressure&#45;&gt;disease</title>\n",
       "<path fill=\"none\" stroke=\"black\" d=\"M91.99,-174.06C78.9,-152.19 61.35,-113.75 79.34,-87 104.44,-49.68 153.96,-32.83 192.59,-25.23\"/>\n",
       "<polygon fill=\"black\" stroke=\"black\" points=\"193.44,-28.63 202.66,-23.41 192.19,-21.75 193.44,-28.63\"/>\n",
       "<text text-anchor=\"middle\" x=\"93.34\" y=\"-101.3\" font-family=\"Times,serif\" font-size=\"14.00\">is_a</text>\n",
       "</g>\n",
       "<!-- high blood pressure&#45;&gt;hypertensive_retinopathy -->\n",
       "<g id=\"edge9\" class=\"edge\">\n",
       "<title>high blood pressure&#45;&gt;hypertensive_retinopathy</title>\n",
       "<path fill=\"none\" stroke=\"black\" d=\"M98.85,-173.95C97.14,-163.36 97.07,-150.09 104.34,-141 111.08,-132.57 128.99,-125.89 149.92,-120.71\"/>\n",
       "<polygon fill=\"black\" stroke=\"black\" points=\"150.77,-124.11 159.72,-118.44 149.18,-117.29 150.77,-124.11\"/>\n",
       "<text text-anchor=\"middle\" x=\"188.84\" y=\"-144.8\" font-family=\"Times,serif\" font-size=\"14.00\">can_be_associated_with</text>\n",
       "</g>\n",
       "<!-- hypertensive_retinopathy&#45;&gt;disease -->\n",
       "<g id=\"edge11\" class=\"edge\">\n",
       "<title>hypertensive_retinopathy&#45;&gt;disease</title>\n",
       "<path fill=\"none\" stroke=\"black\" d=\"M246.34,-86.8C246.34,-75.16 246.34,-59.55 246.34,-46.24\"/>\n",
       "<polygon fill=\"black\" stroke=\"black\" points=\"249.84,-46.18 246.34,-36.18 242.84,-46.18 249.84,-46.18\"/>\n",
       "<text text-anchor=\"middle\" x=\"260.34\" y=\"-57.8\" font-family=\"Times,serif\" font-size=\"14.00\">is_a</text>\n",
       "</g>\n",
       "</g>\n",
       "</svg>\n"
      ],
      "text/plain": [
       "<graphviz.dot.Digraph at 0x7f054c62c3a0>"
      ]
     },
     "metadata": {},
     "output_type": "display_data"
    },
    {
     "name": "stdout",
     "output_type": "stream",
     "text": [
      "\n",
      " ====================================== \n",
      "\n"
     ]
    }
   ],
   "source": [
    "for patient_facts in entities:\n",
    "    print (f\"KNOWLEDGE GRAPH FOR PATIENT ID {patient_facts[0]}:\\n\")\n",
    "    g = get_knowledge_graph(patient_facts, triple_store)\n",
    "    display(g)\n",
    "    # g.render(f'graph_outputs/{patient_facts[0]}_graph.gv', view=True)  # DISABLE graph.render() in Linux\n",
    "    print (\"\\n ====================================== \\n\")"
   ]
  },
  {
   "cell_type": "code",
   "execution_count": null,
   "id": "64b012e3-ef50-4b76-be4c-33860c770e13",
   "metadata": {},
   "outputs": [],
   "source": []
  }
 ],
 "metadata": {
  "kernelspec": {
   "display_name": "Python 3",
   "language": "python",
   "name": "python3"
  },
  "language_info": {
   "codemirror_mode": {
    "name": "ipython",
    "version": 3
   },
   "file_extension": ".py",
   "mimetype": "text/x-python",
   "name": "python",
   "nbconvert_exporter": "python",
   "pygments_lexer": "ipython3",
   "version": "3.8.10"
  }
 },
 "nbformat": 4,
 "nbformat_minor": 5
}
