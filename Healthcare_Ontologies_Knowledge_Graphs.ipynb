{
 "cells": [
  {
   "cell_type": "markdown",
   "id": "d2b84779-a2f7-4082-8ffb-83de39238e1e",
   "metadata": {},
   "source": [
    "# Healthcare Ontology 101\n",
    "\n",
    "### Objective:\n",
    "This notebook is a demo for the talk at NLP Summit 2021:\n",
    "\n",
    "https://www.nlpsummit.org/nlp-clinical-ontology-101/\n",
    "\n",
    "Presentation slides can be found at: \n",
    "\n",
    "https://docs.google.com/presentation/d/12RqIXvCo5IF3KwazLX_KIBRbVjrvYHYUeZQN_Z1l3eM/edit#slide=id.geee13e491f_0_85"
   ]
  },
  {
   "cell_type": "code",
   "execution_count": null,
   "id": "f027348c-7c43-4f7e-b7df-1ced483baaba",
   "metadata": {},
   "outputs": [],
   "source": [
    "# DISCLAIMER: THIS IS NOT OPTIMIZED FOR PERFORMANCE"
   ]
  },
  {
   "cell_type": "code",
   "execution_count": 1,
   "id": "d4048fe1-00fe-43c6-9f6a-cab15fdfe0ef",
   "metadata": {},
   "outputs": [],
   "source": [
    "# PROJECT DEPENDENCIES:\n",
    "# FOR GRAPHVIZ => Follow install guide in https://graphviz.org/download/\n",
    "!pip install \\\n",
    "graphviz \\\n",
    "pyspark==3.1.2 \\\n",
    "py4j==0.10.9 \\\n",
    "transformers==4.10.0 \\\n",
    "torch==1.9.0 \\\n",
    "ipywidgets \\\n",
    "--quiet"
   ]
  },
  {
   "cell_type": "code",
   "execution_count": 1,
   "id": "86dfd09a-233e-4ddf-b68a-429c378a078e",
   "metadata": {},
   "outputs": [],
   "source": [
    "# Setup environment variables (since I have multiple python and spark installs...)\n",
    "import os\n",
    "\n",
    "os.environ[\"SPARK_HOME\"] = \"/Users/mtournier/miniconda3/envs/sparknlp/lib/python3.9/site-packages/pyspark\"\n",
    "os.environ[\"PYTHONPATH\"] = \"%SPARK_HOME%\\python;%SPARK_HOME%\\python\\lib\\py4j-0.10.9-src.zip:%PYTHONPATH%\""
   ]
  },
  {
   "cell_type": "code",
   "execution_count": 2,
   "id": "f1bfd64a-907f-407a-a952-8d9b2024010b",
   "metadata": {},
   "outputs": [],
   "source": [
    "from pyspark import SparkContext\n",
    "from pyspark.sql import SparkSession\n",
    "from ontoutils.pipelines import TaggerPipeline, process_tags, process_text\n",
    "from ontoutils.triplestore import make_triplestore\n",
    "from ontoutils.graphs import get_knowledge_graph"
   ]
  },
  {
   "cell_type": "code",
   "execution_count": 3,
   "id": "f0088e20-95a6-4d87-a76c-eb6fd25b0731",
   "metadata": {},
   "outputs": [
    {
     "name": "stderr",
     "output_type": "stream",
     "text": [
      "21/09/10 09:57:28 WARN NativeCodeLoader: Unable to load native-hadoop library for your platform... using builtin-java classes where applicable\n",
      "Using Spark's default log4j profile: org/apache/spark/log4j-defaults.properties\n",
      "Setting default log level to \"WARN\".\n",
      "To adjust logging level use sc.setLogLevel(newLevel). For SparkR, use setLogLevel(newLevel).\n",
      "21/09/10 09:57:29 WARN Utils: Service 'SparkUI' could not bind on port 4040. Attempting port 4041.\n"
     ]
    }
   ],
   "source": [
    "# Setup spark context and session\n",
    "# - just because I like to use RDDs :P\n",
    "\n",
    "sc = SparkContext.getOrCreate()\n",
    "spark = SparkSession(sc)"
   ]
  },
  {
   "cell_type": "code",
   "execution_count": 4,
   "id": "1f7de698-1d85-4b5f-a680-bf2eeee53006",
   "metadata": {},
   "outputs": [],
   "source": [
    "model_name = \"samrawal/bert-base-uncased_clinical-ner\"\n",
    "tokenizer_name = \"bert-base-uncased\"\n",
    "\n",
    "ner = TaggerPipeline(model_name, tokenizer_name)"
   ]
  },
  {
   "cell_type": "code",
   "execution_count": 5,
   "id": "66569ba5-4d75-4ea7-8305-447c713249c9",
   "metadata": {},
   "outputs": [],
   "source": [
    "sequences = sc.parallelize([\n",
    "    {\"id\": \"A0001\", \"text\": \"Patient with Type 2 diabetes, taking insulin for 3 months. A1C at 2021-12-12 is 5.9%\"},\n",
    "    {\"id\": \"B0021\", \"text\": \"John has glaucoma and chronic back pain. He is in use of amitriptyline 25mg and he is complaining about vision loss\"},\n",
    "    {\"id\": \"CA091\", \"text\": \"Mary is a 31 years old patient with high blood pressure. She is due for retinal eye exam. She takes losartan\"}\n",
    "])"
   ]
  },
  {
   "cell_type": "code",
   "execution_count": 6,
   "id": "410bc2f7-9b5c-4ae1-82c3-abef0ebb08fd",
   "metadata": {},
   "outputs": [
    {
     "data": {
      "text/plain": [
       "{0: 'B-problem',\n",
       " 1: 'B-treatment',\n",
       " 2: 'I-test',\n",
       " 3: 'I-treatment',\n",
       " 4: 'B-test',\n",
       " 5: 'O',\n",
       " 6: 'I-problem'}"
      ]
     },
     "execution_count": 6,
     "metadata": {},
     "output_type": "execute_result"
    }
   ],
   "source": [
    "ner.label_list"
   ]
  },
  {
   "cell_type": "code",
   "execution_count": 7,
   "id": "a7a134c9-55dc-4bb7-bb19-f278aa3557a1",
   "metadata": {},
   "outputs": [],
   "source": [
    "tagged_sequences = sequences.map(lambda row: process_text(row, ner))"
   ]
  },
  {
   "cell_type": "code",
   "execution_count": 8,
   "id": "95fd8bda-4902-4dea-ae65-5ff1efa52a76",
   "metadata": {},
   "outputs": [
    {
     "name": "stderr",
     "output_type": "stream",
     "text": [
      "                                                                                \r"
     ]
    }
   ],
   "source": [
    "df = tagged_sequences.toDF()"
   ]
  },
  {
   "cell_type": "code",
   "execution_count": 9,
   "id": "2a90e896-6aa8-4904-9974-2dc1140d2d01",
   "metadata": {},
   "outputs": [
    {
     "name": "stdout",
     "output_type": "stream",
     "text": [
      "root\n",
      " |-- id: string (nullable = true)\n",
      " |-- problems: array (nullable = true)\n",
      " |    |-- element: string (containsNull = true)\n",
      " |-- tags: array (nullable = true)\n",
      " |    |-- element: struct (containsNull = true)\n",
      " |    |    |-- _1: string (nullable = true)\n",
      " |    |    |-- _2: string (nullable = true)\n",
      " |-- tests: array (nullable = true)\n",
      " |    |-- element: string (containsNull = true)\n",
      " |-- text: string (nullable = true)\n",
      " |-- treatments: array (nullable = true)\n",
      " |    |-- element: string (containsNull = true)\n",
      "\n"
     ]
    }
   ],
   "source": [
    "df.printSchema()"
   ]
  },
  {
   "cell_type": "code",
   "execution_count": null,
   "id": "6dc5f9da-bc41-4402-aedd-59e1d373e4ae",
   "metadata": {},
   "outputs": [],
   "source": [
    "# Checking tagged outputs:"
   ]
  },
  {
   "cell_type": "code",
   "execution_count": 10,
   "id": "a73853e1-2e2a-4300-adaa-91b2a7574954",
   "metadata": {},
   "outputs": [
    {
     "name": "stderr",
     "output_type": "stream",
     "text": [
      "[Stage 4:=================================>                         (4 + 3) / 7]\r"
     ]
    },
    {
     "name": "stdout",
     "output_type": "stream",
     "text": [
      "+-----+------------------------------------------+---------------+------------------+\n",
      "|id   |problems                                  |treatments     |tests             |\n",
      "+-----+------------------------------------------+---------------+------------------+\n",
      "|A0001|[type 2 diabetes]                         |[insulin]      |[a1c]             |\n",
      "|B0021|[glaucoma, chronic back pain, vision loss]|[amitriptyline]|[]                |\n",
      "|CA091|[high blood pressure]                     |[losartan]     |[retinal eye exam]|\n",
      "+-----+------------------------------------------+---------------+------------------+\n",
      "\n"
     ]
    },
    {
     "name": "stderr",
     "output_type": "stream",
     "text": [
      "                                                                                \r"
     ]
    }
   ],
   "source": [
    "df.select(\"id\", \"problems\", \"treatments\", \"tests\").show(10, False)"
   ]
  },
  {
   "cell_type": "code",
   "execution_count": null,
   "id": "d20248e1-b7d8-4e9e-a0a7-65f1475e6bc7",
   "metadata": {},
   "outputs": [],
   "source": [
    "# Getting all entities we have in the dataframe:"
   ]
  },
  {
   "cell_type": "code",
   "execution_count": 31,
   "id": "4b2feaff-9931-4b57-baa8-be7c8f92f497",
   "metadata": {},
   "outputs": [
    {
     "name": "stderr",
     "output_type": "stream",
     "text": [
      "                                                                                \r"
     ]
    }
   ],
   "source": [
    "nested_entities = (\n",
    "    df\n",
    "    .select(\"id\", \"problems\", \"treatments\", \"tests\")\n",
    "    .rdd\n",
    "    .map(lambda row: list(row.asDict().values()))\n",
    "    .collect()\n",
    ")"
   ]
  },
  {
   "cell_type": "code",
   "execution_count": null,
   "id": "694c4af0-c7c9-4185-9f7b-31ee18ab8992",
   "metadata": {},
   "outputs": [],
   "source": [
    "# Un-nesting the entities so we can run our graph parser properly"
   ]
  },
  {
   "cell_type": "code",
   "execution_count": 35,
   "id": "b12cde0e-510d-45d8-98ef-59468df067dd",
   "metadata": {},
   "outputs": [],
   "source": [
    "entities = []\n",
    "\n",
    "for row in nested_entities:\n",
    "    unnested_row = []\n",
    "    for element in row:\n",
    "        if type(element) == list:\n",
    "            unnested_row += element\n",
    "        else:\n",
    "            unnested_row.append(element)\n",
    "    entities.append(unnested_row)"
   ]
  },
  {
   "cell_type": "code",
   "execution_count": 36,
   "id": "281c46a6-a36c-4c0f-babc-c6b672d0d743",
   "metadata": {},
   "outputs": [
    {
     "data": {
      "text/plain": [
       "[['A0001', 'type 2 diabetes', 'insulin', 'a1c'],\n",
       " ['B0021', 'glaucoma', 'chronic back pain', 'vision loss', 'amitriptyline'],\n",
       " ['CA091', 'high blood pressure', 'losartan', 'retinal eye exam']]"
      ]
     },
     "execution_count": 36,
     "metadata": {},
     "output_type": "execute_result"
    }
   ],
   "source": [
    "entities"
   ]
  },
  {
   "cell_type": "markdown",
   "id": "a0420942-e411-4252-82f3-4274f0a5a8f9",
   "metadata": {},
   "source": [
    "### Building our boiler-plate ontology and play with semantic parsing:"
   ]
  },
  {
   "cell_type": "code",
   "execution_count": 11,
   "id": "5cf18920-b999-427e-8e5a-e2ef4575864a",
   "metadata": {},
   "outputs": [],
   "source": [
    "# Making my wanna_be-ontology:\n",
    "\n",
    "triples = \"\"\"A0001 ===> is_a ===> patient\n",
    "B0021 ===> is_a ===> patient\n",
    "CA091 ===> is_a ===> patient\n",
    "insulin ===> is_a ===> medication\n",
    "amitriptyline ===> is_a ===> medication\n",
    "losartan ===> is_a ===> medication\n",
    "a1c ===> is_a ===> test\n",
    "retinal eye exam ===> is_a ===> test\n",
    "type 2 diabetes ===> is_a ===> disease\n",
    "glaucoma ===> is_a ===> disease\n",
    "chronic back pain ===> is_a ===> disease\n",
    "vision loss ===> is_a ===> disease\n",
    "high blood pressure ===> is_a ===> disease\n",
    "patient ===> has ===> disease\n",
    "patient ===> takes ===> medication\n",
    "patient ===> performed ===> test\n",
    "insulin ===> can_treat ===> type 2 diabetes\n",
    "a1c ===> is_a_test_of ===> type 2 diabetes\n",
    "insulin ===> can_reduce ===> a1c\n",
    "amitriptyline ===> is_a ===> tricyclic antidepressant\n",
    "amitriptyline ===> can_treat ===> chronic back pain\n",
    "tricyclic antidepressant ===> has_negative_interaction ===> glaucoma\n",
    "glaucoma ===> can_be_associated_with ===> vision loss\n",
    "losartan ===> can_treat ===> high blood pressure\n",
    "high blood pressure ===> can_be_associated_with ===> hypertensive_retinopathy\n",
    "retinal eye exam ===> is_a_test_of ===> hypertensive_retinopathy\n",
    "hypertensive_retinopathy ===> is_a ===> disease\"\"\""
   ]
  },
  {
   "cell_type": "code",
   "execution_count": 13,
   "id": "9fa6cfac-6df0-4c66-a97e-ce8b7d864423",
   "metadata": {},
   "outputs": [
    {
     "data": {
      "text/plain": [
       "[triple(subject='A0001', predicate='is_a', object='patient'),\n",
       " triple(subject='B0021', predicate='is_a', object='patient'),\n",
       " triple(subject='CA091', predicate='is_a', object='patient'),\n",
       " triple(subject='insulin', predicate='is_a', object='medication'),\n",
       " triple(subject='amitriptyline', predicate='is_a', object='medication'),\n",
       " triple(subject='losartan', predicate='is_a', object='medication'),\n",
       " triple(subject='a1c', predicate='is_a', object='test'),\n",
       " triple(subject='retinal eye exam', predicate='is_a', object='test'),\n",
       " triple(subject='type 2 diabetes', predicate='is_a', object='disease'),\n",
       " triple(subject='glaucoma', predicate='is_a', object='disease'),\n",
       " triple(subject='chronic back pain', predicate='is_a', object='disease'),\n",
       " triple(subject='vision loss', predicate='is_a', object='disease'),\n",
       " triple(subject='high blood pressure', predicate='is_a', object='disease'),\n",
       " triple(subject='patient', predicate='has', object='disease'),\n",
       " triple(subject='patient', predicate='takes', object='medication'),\n",
       " triple(subject='patient', predicate='performed', object='test'),\n",
       " triple(subject='insulin', predicate='can_treat', object='type 2 diabetes'),\n",
       " triple(subject='a1c', predicate='is_a_test_of', object='type 2 diabetes'),\n",
       " triple(subject='insulin', predicate='can_reduce', object='a1c'),\n",
       " triple(subject='amitriptyline', predicate='is_a', object='tricyclic antidepressant'),\n",
       " triple(subject='amitriptyline', predicate='can_treat', object='chronic back pain'),\n",
       " triple(subject='tricyclic antidepressant', predicate='has_negative_interaction', object='glaucoma'),\n",
       " triple(subject='glaucoma', predicate='can_be_associated_with', object='vision loss'),\n",
       " triple(subject='losartan', predicate='can_treat', object='high blood pressure'),\n",
       " triple(subject='high blood pressure', predicate='can_be_associated_with', object='hypertensive_retinopathy'),\n",
       " triple(subject='retinal eye exam', predicate='is_a_test_of', object='hypertensive_retinopathy'),\n",
       " triple(subject='hypertensive_retinopathy', predicate='is_a', object='disease')]"
      ]
     },
     "execution_count": 13,
     "metadata": {},
     "output_type": "execute_result"
    }
   ],
   "source": [
    "triple_store = make_triplestore(triples)\n",
    "triple_store"
   ]
  },
  {
   "cell_type": "code",
   "execution_count": null,
   "id": "dc72d77e-b078-4953-9a8a-448c2b0623ff",
   "metadata": {},
   "outputs": [],
   "source": [
    "# Displaying our knowledge graphs!"
   ]
  },
  {
   "cell_type": "code",
   "execution_count": 42,
   "id": "adb58580-9a82-4b31-8b10-1cbc8d90897c",
   "metadata": {},
   "outputs": [
    {
     "name": "stdout",
     "output_type": "stream",
     "text": [
      "KNOWLEDGE GRAPH FOR PATIENT ID A0001:\n",
      "\n"
     ]
    },
    {
     "data": {
      "image/svg+xml": [
       "<?xml version=\"1.0\" encoding=\"UTF-8\" standalone=\"no\"?>\n",
       "<!DOCTYPE svg PUBLIC \"-//W3C//DTD SVG 1.1//EN\"\n",
       " \"http://www.w3.org/Graphics/SVG/1.1/DTD/svg11.dtd\">\n",
       "<!-- Generated by graphviz version 2.44.1 (20200629.0846)\n",
       " -->\n",
       "<!-- Pages: 1 -->\n",
       "<svg width=\"380pt\" height=\"305pt\"\n",
       " viewBox=\"0.00 0.00 379.63 305.00\" xmlns=\"http://www.w3.org/2000/svg\" xmlns:xlink=\"http://www.w3.org/1999/xlink\">\n",
       "<g id=\"graph0\" class=\"graph\" transform=\"scale(1 1) rotate(0) translate(4 301)\">\n",
       "<polygon fill=\"white\" stroke=\"transparent\" points=\"-4,4 -4,-301 375.63,-301 375.63,4 -4,4\"/>\n",
       "<!-- type 2 diabetes -->\n",
       "<g id=\"node1\" class=\"node\">\n",
       "<title>type 2 diabetes</title>\n",
       "<ellipse fill=\"none\" stroke=\"black\" cx=\"67.63\" cy=\"-105\" rx=\"63.89\" ry=\"18\"/>\n",
       "<text text-anchor=\"middle\" x=\"67.63\" y=\"-101.3\" font-family=\"Times,serif\" font-size=\"14.00\">type 2 diabetes</text>\n",
       "</g>\n",
       "<!-- disease -->\n",
       "<g id=\"node8\" class=\"node\">\n",
       "<title>disease</title>\n",
       "<ellipse fill=\"none\" stroke=\"black\" cx=\"217.63\" cy=\"-18\" rx=\"36.29\" ry=\"18\"/>\n",
       "<text text-anchor=\"middle\" x=\"217.63\" y=\"-14.3\" font-family=\"Times,serif\" font-size=\"14.00\">disease</text>\n",
       "</g>\n",
       "<!-- type 2 diabetes&#45;&gt;disease -->\n",
       "<g id=\"edge4\" class=\"edge\">\n",
       "<title>type 2 diabetes&#45;&gt;disease</title>\n",
       "<path fill=\"none\" stroke=\"black\" d=\"M94.79,-88.61C120.32,-74.14 158.53,-52.49 185.55,-37.18\"/>\n",
       "<polygon fill=\"black\" stroke=\"black\" points=\"187.62,-40.03 194.6,-32.05 184.17,-33.94 187.62,-40.03\"/>\n",
       "<text text-anchor=\"middle\" x=\"162.63\" y=\"-57.8\" font-family=\"Times,serif\" font-size=\"14.00\">is_a</text>\n",
       "</g>\n",
       "<!-- patient -->\n",
       "<g id=\"node2\" class=\"node\">\n",
       "<title>patient</title>\n",
       "<ellipse fill=\"none\" stroke=\"black\" cx=\"294.63\" cy=\"-192\" rx=\"34.39\" ry=\"18\"/>\n",
       "<text text-anchor=\"middle\" x=\"294.63\" y=\"-188.3\" font-family=\"Times,serif\" font-size=\"14.00\">patient</text>\n",
       "</g>\n",
       "<!-- medication -->\n",
       "<g id=\"node4\" class=\"node\">\n",
       "<title>medication</title>\n",
       "<ellipse fill=\"none\" stroke=\"black\" cx=\"199.63\" cy=\"-105\" rx=\"50.09\" ry=\"18\"/>\n",
       "<text text-anchor=\"middle\" x=\"199.63\" y=\"-101.3\" font-family=\"Times,serif\" font-size=\"14.00\">medication</text>\n",
       "</g>\n",
       "<!-- patient&#45;&gt;medication -->\n",
       "<g id=\"edge6\" class=\"edge\">\n",
       "<title>patient&#45;&gt;medication</title>\n",
       "<path fill=\"none\" stroke=\"black\" d=\"M278.08,-176.19C263.55,-163.2 242.18,-144.08 225.41,-129.07\"/>\n",
       "<polygon fill=\"black\" stroke=\"black\" points=\"227.39,-126.14 217.6,-122.08 222.72,-131.36 227.39,-126.14\"/>\n",
       "<text text-anchor=\"middle\" x=\"267.63\" y=\"-144.8\" font-family=\"Times,serif\" font-size=\"14.00\">takes</text>\n",
       "</g>\n",
       "<!-- test -->\n",
       "<g id=\"node6\" class=\"node\">\n",
       "<title>test</title>\n",
       "<ellipse fill=\"none\" stroke=\"black\" cx=\"294.63\" cy=\"-105\" rx=\"27\" ry=\"18\"/>\n",
       "<text text-anchor=\"middle\" x=\"294.63\" y=\"-101.3\" font-family=\"Times,serif\" font-size=\"14.00\">test</text>\n",
       "</g>\n",
       "<!-- patient&#45;&gt;test -->\n",
       "<g id=\"edge7\" class=\"edge\">\n",
       "<title>patient&#45;&gt;test</title>\n",
       "<path fill=\"none\" stroke=\"black\" d=\"M294.63,-173.8C294.63,-162.16 294.63,-146.55 294.63,-133.24\"/>\n",
       "<polygon fill=\"black\" stroke=\"black\" points=\"298.13,-133.18 294.63,-123.18 291.13,-133.18 298.13,-133.18\"/>\n",
       "<text text-anchor=\"middle\" x=\"323.63\" y=\"-144.8\" font-family=\"Times,serif\" font-size=\"14.00\">performed</text>\n",
       "</g>\n",
       "<!-- patient&#45;&gt;disease -->\n",
       "<g id=\"edge5\" class=\"edge\">\n",
       "<title>patient&#45;&gt;disease</title>\n",
       "<path fill=\"none\" stroke=\"black\" d=\"M322.75,-181.53C334.47,-176.03 346.91,-167.8 353.63,-156 365.98,-134.31 345.69,-104.32 330.63,-87 310.07,-63.36 279.2,-45.56 254.92,-34.12\"/>\n",
       "<polygon fill=\"black\" stroke=\"black\" points=\"256.19,-30.85 245.64,-29.9 253.29,-37.22 256.19,-30.85\"/>\n",
       "<text text-anchor=\"middle\" x=\"362.13\" y=\"-101.3\" font-family=\"Times,serif\" font-size=\"14.00\">has</text>\n",
       "</g>\n",
       "<!-- A0001 -->\n",
       "<g id=\"node3\" class=\"node\">\n",
       "<title>A0001</title>\n",
       "<ellipse fill=\"none\" stroke=\"black\" cx=\"294.63\" cy=\"-279\" rx=\"34.39\" ry=\"18\"/>\n",
       "<text text-anchor=\"middle\" x=\"294.63\" y=\"-275.3\" font-family=\"Times,serif\" font-size=\"14.00\">A0001</text>\n",
       "</g>\n",
       "<!-- A0001&#45;&gt;patient -->\n",
       "<g id=\"edge1\" class=\"edge\">\n",
       "<title>A0001&#45;&gt;patient</title>\n",
       "<path fill=\"none\" stroke=\"black\" d=\"M294.63,-260.8C294.63,-249.16 294.63,-233.55 294.63,-220.24\"/>\n",
       "<polygon fill=\"black\" stroke=\"black\" points=\"298.13,-220.18 294.63,-210.18 291.13,-220.18 298.13,-220.18\"/>\n",
       "<text text-anchor=\"middle\" x=\"305.63\" y=\"-231.8\" font-family=\"Times,serif\" font-size=\"14.00\">is_a</text>\n",
       "</g>\n",
       "<!-- insulin -->\n",
       "<g id=\"node5\" class=\"node\">\n",
       "<title>insulin</title>\n",
       "<ellipse fill=\"none\" stroke=\"black\" cx=\"76.63\" cy=\"-279\" rx=\"34.39\" ry=\"18\"/>\n",
       "<text text-anchor=\"middle\" x=\"76.63\" y=\"-275.3\" font-family=\"Times,serif\" font-size=\"14.00\">insulin</text>\n",
       "</g>\n",
       "<!-- insulin&#45;&gt;type 2 diabetes -->\n",
       "<g id=\"edge8\" class=\"edge\">\n",
       "<title>insulin&#45;&gt;type 2 diabetes</title>\n",
       "<path fill=\"none\" stroke=\"black\" d=\"M55.07,-264.86C37.8,-252.96 14.84,-233.68 4.63,-210 -1.71,-195.31 -1.21,-188.9 4.63,-174 11.49,-156.5 25.19,-140.82 38.08,-128.94\"/>\n",
       "<polygon fill=\"black\" stroke=\"black\" points=\"40.72,-131.28 45.92,-122.05 36.1,-126.02 40.72,-131.28\"/>\n",
       "<text text-anchor=\"middle\" x=\"29.63\" y=\"-188.3\" font-family=\"Times,serif\" font-size=\"14.00\">can_treat</text>\n",
       "</g>\n",
       "<!-- insulin&#45;&gt;medication -->\n",
       "<g id=\"edge2\" class=\"edge\">\n",
       "<title>insulin&#45;&gt;medication</title>\n",
       "<path fill=\"none\" stroke=\"black\" d=\"M73.04,-260.69C68.18,-231.86 63.25,-173.95 93.63,-141 95.86,-138.58 125.62,-128.86 153.04,-120.27\"/>\n",
       "<polygon fill=\"black\" stroke=\"black\" points=\"154.09,-123.61 162.59,-117.3 152.01,-116.93 154.09,-123.61\"/>\n",
       "<text text-anchor=\"middle\" x=\"86.63\" y=\"-188.3\" font-family=\"Times,serif\" font-size=\"14.00\">is_a</text>\n",
       "</g>\n",
       "<!-- a1c -->\n",
       "<g id=\"node7\" class=\"node\">\n",
       "<title>a1c</title>\n",
       "<ellipse fill=\"none\" stroke=\"black\" cx=\"143.63\" cy=\"-192\" rx=\"27\" ry=\"18\"/>\n",
       "<text text-anchor=\"middle\" x=\"143.63\" y=\"-188.3\" font-family=\"Times,serif\" font-size=\"14.00\">a1c</text>\n",
       "</g>\n",
       "<!-- insulin&#45;&gt;a1c -->\n",
       "<g id=\"edge10\" class=\"edge\">\n",
       "<title>insulin&#45;&gt;a1c</title>\n",
       "<path fill=\"none\" stroke=\"black\" d=\"M89.23,-262.01C99.37,-249.15 113.76,-230.89 125.2,-216.38\"/>\n",
       "<polygon fill=\"black\" stroke=\"black\" points=\"128.09,-218.36 131.53,-208.34 122.59,-214.03 128.09,-218.36\"/>\n",
       "<text text-anchor=\"middle\" x=\"145.63\" y=\"-231.8\" font-family=\"Times,serif\" font-size=\"14.00\">can_reduce</text>\n",
       "</g>\n",
       "<!-- a1c&#45;&gt;type 2 diabetes -->\n",
       "<g id=\"edge9\" class=\"edge\">\n",
       "<title>a1c&#45;&gt;type 2 diabetes</title>\n",
       "<path fill=\"none\" stroke=\"black\" d=\"M129.67,-176.49C123.73,-170.25 116.77,-162.83 110.63,-156 103.27,-147.83 95.39,-138.76 88.4,-130.61\"/>\n",
       "<polygon fill=\"black\" stroke=\"black\" points=\"90.92,-128.17 81.77,-122.83 85.6,-132.71 90.92,-128.17\"/>\n",
       "<text text-anchor=\"middle\" x=\"143.63\" y=\"-144.8\" font-family=\"Times,serif\" font-size=\"14.00\">is_a_test_of</text>\n",
       "</g>\n",
       "<!-- a1c&#45;&gt;test -->\n",
       "<g id=\"edge3\" class=\"edge\">\n",
       "<title>a1c&#45;&gt;test</title>\n",
       "<path fill=\"none\" stroke=\"black\" d=\"M160.43,-177.81C174.62,-167.05 195.75,-151.91 215.63,-141 233.79,-131.04 239.7,-131.43 258.63,-123 260.43,-122.2 262.27,-121.37 264.13,-120.52\"/>\n",
       "<polygon fill=\"black\" stroke=\"black\" points=\"265.78,-123.61 273.38,-116.23 262.83,-117.26 265.78,-123.61\"/>\n",
       "<text text-anchor=\"middle\" x=\"226.63\" y=\"-144.8\" font-family=\"Times,serif\" font-size=\"14.00\">is_a</text>\n",
       "</g>\n",
       "</g>\n",
       "</svg>\n"
      ],
      "text/plain": [
       "<graphviz.dot.Digraph at 0x7fefb4352670>"
      ]
     },
     "metadata": {},
     "output_type": "display_data"
    },
    {
     "name": "stdout",
     "output_type": "stream",
     "text": [
      "\n",
      " ====================================== \n",
      "\n",
      "KNOWLEDGE GRAPH FOR PATIENT ID B0021:\n",
      "\n"
     ]
    },
    {
     "data": {
      "image/svg+xml": [
       "<?xml version=\"1.0\" encoding=\"UTF-8\" standalone=\"no\"?>\n",
       "<!DOCTYPE svg PUBLIC \"-//W3C//DTD SVG 1.1//EN\"\n",
       " \"http://www.w3.org/Graphics/SVG/1.1/DTD/svg11.dtd\">\n",
       "<!-- Generated by graphviz version 2.44.1 (20200629.0846)\n",
       " -->\n",
       "<!-- Pages: 1 -->\n",
       "<svg width=\"511pt\" height=\"500pt\"\n",
       " viewBox=\"0.00 0.00 511.44 500.00\" xmlns=\"http://www.w3.org/2000/svg\" xmlns:xlink=\"http://www.w3.org/1999/xlink\">\n",
       "<g id=\"graph0\" class=\"graph\" transform=\"scale(1 1) rotate(0) translate(4 496)\">\n",
       "<polygon fill=\"white\" stroke=\"transparent\" points=\"-4,4 -4,-496 507.44,-496 507.44,4 -4,4\"/>\n",
       "<!-- B0021 -->\n",
       "<g id=\"node1\" class=\"node\">\n",
       "<title>B0021</title>\n",
       "<ellipse fill=\"none\" stroke=\"black\" cx=\"55\" cy=\"-474\" rx=\"34.39\" ry=\"18\"/>\n",
       "<text text-anchor=\"middle\" x=\"55\" y=\"-470.3\" font-family=\"Times,serif\" font-size=\"14.00\">B0021</text>\n",
       "</g>\n",
       "<!-- patient -->\n",
       "<g id=\"node2\" class=\"node\">\n",
       "<title>patient</title>\n",
       "<ellipse fill=\"none\" stroke=\"black\" cx=\"55\" cy=\"-387\" rx=\"34.39\" ry=\"18\"/>\n",
       "<text text-anchor=\"middle\" x=\"55\" y=\"-383.3\" font-family=\"Times,serif\" font-size=\"14.00\">patient</text>\n",
       "</g>\n",
       "<!-- B0021&#45;&gt;patient -->\n",
       "<g id=\"edge1\" class=\"edge\">\n",
       "<title>B0021&#45;&gt;patient</title>\n",
       "<path fill=\"none\" stroke=\"black\" d=\"M55,-455.8C55,-444.16 55,-428.55 55,-415.24\"/>\n",
       "<polygon fill=\"black\" stroke=\"black\" points=\"58.5,-415.18 55,-405.18 51.5,-415.18 58.5,-415.18\"/>\n",
       "<text text-anchor=\"middle\" x=\"66\" y=\"-426.8\" font-family=\"Times,serif\" font-size=\"14.00\">is_a</text>\n",
       "</g>\n",
       "<!-- medication -->\n",
       "<g id=\"node3\" class=\"node\">\n",
       "<title>medication</title>\n",
       "<ellipse fill=\"none\" stroke=\"black\" cx=\"150\" cy=\"-300\" rx=\"50.09\" ry=\"18\"/>\n",
       "<text text-anchor=\"middle\" x=\"150\" y=\"-296.3\" font-family=\"Times,serif\" font-size=\"14.00\">medication</text>\n",
       "</g>\n",
       "<!-- patient&#45;&gt;medication -->\n",
       "<g id=\"edge7\" class=\"edge\">\n",
       "<title>patient&#45;&gt;medication</title>\n",
       "<path fill=\"none\" stroke=\"black\" d=\"M80.63,-374.97C92.57,-369.02 106.43,-360.86 117,-351 124.48,-344.02 131.09,-335.02 136.39,-326.58\"/>\n",
       "<polygon fill=\"black\" stroke=\"black\" points=\"139.52,-328.15 141.6,-317.77 133.5,-324.59 139.52,-328.15\"/>\n",
       "<text text-anchor=\"middle\" x=\"144\" y=\"-339.8\" font-family=\"Times,serif\" font-size=\"14.00\">takes</text>\n",
       "</g>\n",
       "<!-- disease -->\n",
       "<g id=\"node5\" class=\"node\">\n",
       "<title>disease</title>\n",
       "<ellipse fill=\"none\" stroke=\"black\" cx=\"237\" cy=\"-18\" rx=\"36.29\" ry=\"18\"/>\n",
       "<text text-anchor=\"middle\" x=\"237\" y=\"-14.3\" font-family=\"Times,serif\" font-size=\"14.00\">disease</text>\n",
       "</g>\n",
       "<!-- patient&#45;&gt;disease -->\n",
       "<g id=\"edge6\" class=\"edge\">\n",
       "<title>patient&#45;&gt;disease</title>\n",
       "<path fill=\"none\" stroke=\"black\" d=\"M37.9,-371.26C21.75,-355.62 0,-329.3 0,-301 0,-301 0,-301 0,-104 0,-63.57 123.77,-37.18 192.43,-25.66\"/>\n",
       "<polygon fill=\"black\" stroke=\"black\" points=\"193.24,-29.07 202.54,-24 192.1,-22.16 193.24,-29.07\"/>\n",
       "<text text-anchor=\"middle\" x=\"9.5\" y=\"-188.3\" font-family=\"Times,serif\" font-size=\"14.00\">has</text>\n",
       "</g>\n",
       "<!-- test -->\n",
       "<g id=\"node9\" class=\"node\">\n",
       "<title>test</title>\n",
       "<ellipse fill=\"none\" stroke=\"black\" cx=\"55\" cy=\"-300\" rx=\"27\" ry=\"18\"/>\n",
       "<text text-anchor=\"middle\" x=\"55\" y=\"-296.3\" font-family=\"Times,serif\" font-size=\"14.00\">test</text>\n",
       "</g>\n",
       "<!-- patient&#45;&gt;test -->\n",
       "<g id=\"edge8\" class=\"edge\">\n",
       "<title>patient&#45;&gt;test</title>\n",
       "<path fill=\"none\" stroke=\"black\" d=\"M55,-368.8C55,-357.16 55,-341.55 55,-328.24\"/>\n",
       "<polygon fill=\"black\" stroke=\"black\" points=\"58.5,-328.18 55,-318.18 51.5,-328.18 58.5,-328.18\"/>\n",
       "<text text-anchor=\"middle\" x=\"84\" y=\"-339.8\" font-family=\"Times,serif\" font-size=\"14.00\">performed</text>\n",
       "</g>\n",
       "<!-- amitriptyline -->\n",
       "<g id=\"node4\" class=\"node\">\n",
       "<title>amitriptyline</title>\n",
       "<ellipse fill=\"none\" stroke=\"black\" cx=\"310\" cy=\"-387\" rx=\"56.59\" ry=\"18\"/>\n",
       "<text text-anchor=\"middle\" x=\"310\" y=\"-383.3\" font-family=\"Times,serif\" font-size=\"14.00\">amitriptyline</text>\n",
       "</g>\n",
       "<!-- amitriptyline&#45;&gt;medication -->\n",
       "<g id=\"edge2\" class=\"edge\">\n",
       "<title>amitriptyline&#45;&gt;medication</title>\n",
       "<path fill=\"none\" stroke=\"black\" d=\"M282.13,-371.19C255.47,-357.03 215.13,-335.6 186.04,-320.14\"/>\n",
       "<polygon fill=\"black\" stroke=\"black\" points=\"187.49,-316.95 177.02,-315.35 184.21,-323.14 187.49,-316.95\"/>\n",
       "<text text-anchor=\"middle\" x=\"250\" y=\"-339.8\" font-family=\"Times,serif\" font-size=\"14.00\">is_a</text>\n",
       "</g>\n",
       "<!-- chronic back pain -->\n",
       "<g id=\"node7\" class=\"node\">\n",
       "<title>chronic back pain</title>\n",
       "<ellipse fill=\"none\" stroke=\"black\" cx=\"430\" cy=\"-246\" rx=\"73.39\" ry=\"18\"/>\n",
       "<text text-anchor=\"middle\" x=\"430\" y=\"-242.3\" font-family=\"Times,serif\" font-size=\"14.00\">chronic back pain</text>\n",
       "</g>\n",
       "<!-- amitriptyline&#45;&gt;chronic back pain -->\n",
       "<g id=\"edge10\" class=\"edge\">\n",
       "<title>amitriptyline&#45;&gt;chronic back pain</title>\n",
       "<path fill=\"none\" stroke=\"black\" d=\"M341.87,-372.09C364.39,-360.68 393.56,-342.43 411,-318 420.1,-305.25 424.84,-288.41 427.31,-274.33\"/>\n",
       "<polygon fill=\"black\" stroke=\"black\" points=\"430.8,-274.62 428.79,-264.21 423.88,-273.6 430.8,-274.62\"/>\n",
       "<text text-anchor=\"middle\" x=\"418\" y=\"-339.8\" font-family=\"Times,serif\" font-size=\"14.00\">can_treat</text>\n",
       "</g>\n",
       "<!-- tricyclic antidepressant -->\n",
       "<g id=\"node10\" class=\"node\">\n",
       "<title>tricyclic antidepressant</title>\n",
       "<ellipse fill=\"none\" stroke=\"black\" cx=\"310\" cy=\"-300\" rx=\"92.08\" ry=\"18\"/>\n",
       "<text text-anchor=\"middle\" x=\"310\" y=\"-296.3\" font-family=\"Times,serif\" font-size=\"14.00\">tricyclic antidepressant</text>\n",
       "</g>\n",
       "<!-- amitriptyline&#45;&gt;tricyclic antidepressant -->\n",
       "<g id=\"edge9\" class=\"edge\">\n",
       "<title>amitriptyline&#45;&gt;tricyclic antidepressant</title>\n",
       "<path fill=\"none\" stroke=\"black\" d=\"M310,-368.8C310,-357.16 310,-341.55 310,-328.24\"/>\n",
       "<polygon fill=\"black\" stroke=\"black\" points=\"313.5,-328.18 310,-318.18 306.5,-328.18 313.5,-328.18\"/>\n",
       "<text text-anchor=\"middle\" x=\"321\" y=\"-339.8\" font-family=\"Times,serif\" font-size=\"14.00\">is_a</text>\n",
       "</g>\n",
       "<!-- glaucoma -->\n",
       "<g id=\"node6\" class=\"node\">\n",
       "<title>glaucoma</title>\n",
       "<ellipse fill=\"none\" stroke=\"black\" cx=\"216\" cy=\"-192\" rx=\"45.49\" ry=\"18\"/>\n",
       "<text text-anchor=\"middle\" x=\"216\" y=\"-188.3\" font-family=\"Times,serif\" font-size=\"14.00\">glaucoma</text>\n",
       "</g>\n",
       "<!-- glaucoma&#45;&gt;disease -->\n",
       "<g id=\"edge3\" class=\"edge\">\n",
       "<title>glaucoma&#45;&gt;disease</title>\n",
       "<path fill=\"none\" stroke=\"black\" d=\"M233.12,-175.07C237.91,-169.55 242.48,-162.98 245,-156 258.11,-119.63 251.39,-74.32 244.7,-46.02\"/>\n",
       "<polygon fill=\"black\" stroke=\"black\" points=\"248.03,-44.9 242.19,-36.06 241.24,-46.61 248.03,-44.9\"/>\n",
       "<text text-anchor=\"middle\" x=\"263\" y=\"-101.3\" font-family=\"Times,serif\" font-size=\"14.00\">is_a</text>\n",
       "</g>\n",
       "<!-- vision loss -->\n",
       "<g id=\"node8\" class=\"node\">\n",
       "<title>vision loss</title>\n",
       "<ellipse fill=\"none\" stroke=\"black\" cx=\"143\" cy=\"-105\" rx=\"48.19\" ry=\"18\"/>\n",
       "<text text-anchor=\"middle\" x=\"143\" y=\"-101.3\" font-family=\"Times,serif\" font-size=\"14.00\">vision loss</text>\n",
       "</g>\n",
       "<!-- glaucoma&#45;&gt;vision loss -->\n",
       "<g id=\"edge12\" class=\"edge\">\n",
       "<title>glaucoma&#45;&gt;vision loss</title>\n",
       "<path fill=\"none\" stroke=\"black\" d=\"M171.65,-187.62C150.24,-183.49 126.36,-174.65 113,-156 106.95,-147.56 110.57,-137.85 117.08,-129.25\"/>\n",
       "<polygon fill=\"black\" stroke=\"black\" points=\"119.71,-131.56 123.67,-121.73 114.45,-126.94 119.71,-131.56\"/>\n",
       "<text text-anchor=\"middle\" x=\"179\" y=\"-144.8\" font-family=\"Times,serif\" font-size=\"14.00\">can_be_associated_with</text>\n",
       "</g>\n",
       "<!-- chronic back pain&#45;&gt;disease -->\n",
       "<g id=\"edge4\" class=\"edge\">\n",
       "<title>chronic back pain&#45;&gt;disease</title>\n",
       "<path fill=\"none\" stroke=\"black\" d=\"M415.49,-228.01C381.42,-188.12 296.22,-88.35 257.15,-42.6\"/>\n",
       "<polygon fill=\"black\" stroke=\"black\" points=\"259.79,-40.3 250.63,-34.97 254.47,-44.84 259.79,-40.3\"/>\n",
       "<text text-anchor=\"middle\" x=\"362\" y=\"-144.8\" font-family=\"Times,serif\" font-size=\"14.00\">is_a</text>\n",
       "</g>\n",
       "<!-- vision loss&#45;&gt;disease -->\n",
       "<g id=\"edge5\" class=\"edge\">\n",
       "<title>vision loss&#45;&gt;disease</title>\n",
       "<path fill=\"none\" stroke=\"black\" d=\"M160.68,-88.01C175.4,-74.7 196.5,-55.62 212.79,-40.9\"/>\n",
       "<polygon fill=\"black\" stroke=\"black\" points=\"215.28,-43.36 220.35,-34.06 210.58,-38.17 215.28,-43.36\"/>\n",
       "<text text-anchor=\"middle\" x=\"207\" y=\"-57.8\" font-family=\"Times,serif\" font-size=\"14.00\">is_a</text>\n",
       "</g>\n",
       "<!-- tricyclic antidepressant&#45;&gt;glaucoma -->\n",
       "<g id=\"edge11\" class=\"edge\">\n",
       "<title>tricyclic antidepressant&#45;&gt;glaucoma</title>\n",
       "<path fill=\"none\" stroke=\"black\" d=\"M243.26,-287.55C230.98,-282.36 219.65,-274.85 212,-264 203.07,-251.33 203.86,-234.02 206.99,-219.66\"/>\n",
       "<polygon fill=\"black\" stroke=\"black\" points=\"210.41,-220.39 209.57,-209.83 203.64,-218.61 210.41,-220.39\"/>\n",
       "<text text-anchor=\"middle\" x=\"280\" y=\"-242.3\" font-family=\"Times,serif\" font-size=\"14.00\">has_negative_interaction</text>\n",
       "</g>\n",
       "</g>\n",
       "</svg>\n"
      ],
      "text/plain": [
       "<graphviz.dot.Digraph at 0x7fefb4aadd00>"
      ]
     },
     "metadata": {},
     "output_type": "display_data"
    },
    {
     "name": "stdout",
     "output_type": "stream",
     "text": [
      "\n",
      " ====================================== \n",
      "\n",
      "KNOWLEDGE GRAPH FOR PATIENT ID CA091:\n",
      "\n"
     ]
    },
    {
     "data": {
      "image/svg+xml": [
       "<?xml version=\"1.0\" encoding=\"UTF-8\" standalone=\"no\"?>\n",
       "<!DOCTYPE svg PUBLIC \"-//W3C//DTD SVG 1.1//EN\"\n",
       " \"http://www.w3.org/Graphics/SVG/1.1/DTD/svg11.dtd\">\n",
       "<!-- Generated by graphviz version 2.44.1 (20200629.0846)\n",
       " -->\n",
       "<!-- Pages: 1 -->\n",
       "<svg width=\"525pt\" height=\"305pt\"\n",
       " viewBox=\"0.00 0.00 524.59 305.00\" xmlns=\"http://www.w3.org/2000/svg\" xmlns:xlink=\"http://www.w3.org/1999/xlink\">\n",
       "<g id=\"graph0\" class=\"graph\" transform=\"scale(1 1) rotate(0) translate(4 301)\">\n",
       "<polygon fill=\"white\" stroke=\"transparent\" points=\"-4,4 -4,-301 520.59,-301 520.59,4 -4,4\"/>\n",
       "<!-- retinal eye exam -->\n",
       "<g id=\"node1\" class=\"node\">\n",
       "<title>retinal eye exam</title>\n",
       "<ellipse fill=\"none\" stroke=\"black\" cx=\"252.59\" cy=\"-192\" rx=\"69.59\" ry=\"18\"/>\n",
       "<text text-anchor=\"middle\" x=\"252.59\" y=\"-188.3\" font-family=\"Times,serif\" font-size=\"14.00\">retinal eye exam</text>\n",
       "</g>\n",
       "<!-- test -->\n",
       "<g id=\"node6\" class=\"node\">\n",
       "<title>test</title>\n",
       "<ellipse fill=\"none\" stroke=\"black\" cx=\"335.59\" cy=\"-105\" rx=\"27\" ry=\"18\"/>\n",
       "<text text-anchor=\"middle\" x=\"335.59\" y=\"-101.3\" font-family=\"Times,serif\" font-size=\"14.00\">test</text>\n",
       "</g>\n",
       "<!-- retinal eye exam&#45;&gt;test -->\n",
       "<g id=\"edge3\" class=\"edge\">\n",
       "<title>retinal eye exam&#45;&gt;test</title>\n",
       "<path fill=\"none\" stroke=\"black\" d=\"M274.36,-174.76C281.41,-169.12 289.09,-162.56 295.59,-156 303.58,-147.95 311.55,-138.38 318.25,-129.77\"/>\n",
       "<polygon fill=\"black\" stroke=\"black\" points=\"321.21,-131.66 324.48,-121.58 315.64,-127.42 321.21,-131.66\"/>\n",
       "<text text-anchor=\"middle\" x=\"320.59\" y=\"-144.8\" font-family=\"Times,serif\" font-size=\"14.00\">is_a</text>\n",
       "</g>\n",
       "<!-- hypertensive_retinopathy -->\n",
       "<g id=\"node9\" class=\"node\">\n",
       "<title>hypertensive_retinopathy</title>\n",
       "<ellipse fill=\"none\" stroke=\"black\" cx=\"189.59\" cy=\"-105\" rx=\"100.18\" ry=\"18\"/>\n",
       "<text text-anchor=\"middle\" x=\"189.59\" y=\"-101.3\" font-family=\"Times,serif\" font-size=\"14.00\">hypertensive_retinopathy</text>\n",
       "</g>\n",
       "<!-- retinal eye exam&#45;&gt;hypertensive_retinopathy -->\n",
       "<g id=\"edge10\" class=\"edge\">\n",
       "<title>retinal eye exam&#45;&gt;hypertensive_retinopathy</title>\n",
       "<path fill=\"none\" stroke=\"black\" d=\"M240.15,-174.21C231.06,-161.95 218.58,-145.11 208.3,-131.24\"/>\n",
       "<polygon fill=\"black\" stroke=\"black\" points=\"211,-129 202.23,-123.05 205.37,-133.17 211,-129\"/>\n",
       "<text text-anchor=\"middle\" x=\"258.59\" y=\"-144.8\" font-family=\"Times,serif\" font-size=\"14.00\">is_a_test_of</text>\n",
       "</g>\n",
       "<!-- patient -->\n",
       "<g id=\"node2\" class=\"node\">\n",
       "<title>patient</title>\n",
       "<ellipse fill=\"none\" stroke=\"black\" cx=\"475.59\" cy=\"-192\" rx=\"34.39\" ry=\"18\"/>\n",
       "<text text-anchor=\"middle\" x=\"475.59\" y=\"-188.3\" font-family=\"Times,serif\" font-size=\"14.00\">patient</text>\n",
       "</g>\n",
       "<!-- medication -->\n",
       "<g id=\"node4\" class=\"node\">\n",
       "<title>medication</title>\n",
       "<ellipse fill=\"none\" stroke=\"black\" cx=\"431.59\" cy=\"-105\" rx=\"50.09\" ry=\"18\"/>\n",
       "<text text-anchor=\"middle\" x=\"431.59\" y=\"-101.3\" font-family=\"Times,serif\" font-size=\"14.00\">medication</text>\n",
       "</g>\n",
       "<!-- patient&#45;&gt;medication -->\n",
       "<g id=\"edge6\" class=\"edge\">\n",
       "<title>patient&#45;&gt;medication</title>\n",
       "<path fill=\"none\" stroke=\"black\" d=\"M468.86,-174.04C464.78,-164.22 459.28,-151.72 453.59,-141 451.93,-137.86 450.08,-134.63 448.19,-131.45\"/>\n",
       "<polygon fill=\"black\" stroke=\"black\" points=\"451.08,-129.46 442.85,-122.79 445.12,-133.14 451.08,-129.46\"/>\n",
       "<text text-anchor=\"middle\" x=\"475.59\" y=\"-144.8\" font-family=\"Times,serif\" font-size=\"14.00\">takes</text>\n",
       "</g>\n",
       "<!-- patient&#45;&gt;test -->\n",
       "<g id=\"edge7\" class=\"edge\">\n",
       "<title>patient&#45;&gt;test</title>\n",
       "<path fill=\"none\" stroke=\"black\" d=\"M446.82,-181.72C430.03,-175.66 408.84,-166.86 391.59,-156 379.06,-148.11 366.62,-137.37 356.66,-127.87\"/>\n",
       "<polygon fill=\"black\" stroke=\"black\" points=\"358.84,-125.11 349.25,-120.6 353.93,-130.1 358.84,-125.11\"/>\n",
       "<text text-anchor=\"middle\" x=\"420.59\" y=\"-144.8\" font-family=\"Times,serif\" font-size=\"14.00\">performed</text>\n",
       "</g>\n",
       "<!-- disease -->\n",
       "<g id=\"node7\" class=\"node\">\n",
       "<title>disease</title>\n",
       "<ellipse fill=\"none\" stroke=\"black\" cx=\"189.59\" cy=\"-18\" rx=\"36.29\" ry=\"18\"/>\n",
       "<text text-anchor=\"middle\" x=\"189.59\" y=\"-14.3\" font-family=\"Times,serif\" font-size=\"14.00\">disease</text>\n",
       "</g>\n",
       "<!-- patient&#45;&gt;disease -->\n",
       "<g id=\"edge5\" class=\"edge\">\n",
       "<title>patient&#45;&gt;disease</title>\n",
       "<path fill=\"none\" stroke=\"black\" d=\"M486.09,-174.55C489.13,-168.89 492.05,-162.38 493.59,-156 498.04,-137.61 502.27,-100.81 490.59,-87 458.13,-48.62 311.5,-29.97 235.54,-22.74\"/>\n",
       "<polygon fill=\"black\" stroke=\"black\" points=\"235.59,-19.23 225.31,-21.8 234.94,-26.2 235.59,-19.23\"/>\n",
       "<text text-anchor=\"middle\" x=\"507.09\" y=\"-101.3\" font-family=\"Times,serif\" font-size=\"14.00\">has</text>\n",
       "</g>\n",
       "<!-- CA091 -->\n",
       "<g id=\"node3\" class=\"node\">\n",
       "<title>CA091</title>\n",
       "<ellipse fill=\"none\" stroke=\"black\" cx=\"475.59\" cy=\"-279\" rx=\"36.29\" ry=\"18\"/>\n",
       "<text text-anchor=\"middle\" x=\"475.59\" y=\"-275.3\" font-family=\"Times,serif\" font-size=\"14.00\">CA091</text>\n",
       "</g>\n",
       "<!-- CA091&#45;&gt;patient -->\n",
       "<g id=\"edge1\" class=\"edge\">\n",
       "<title>CA091&#45;&gt;patient</title>\n",
       "<path fill=\"none\" stroke=\"black\" d=\"M475.59,-260.8C475.59,-249.16 475.59,-233.55 475.59,-220.24\"/>\n",
       "<polygon fill=\"black\" stroke=\"black\" points=\"479.09,-220.18 475.59,-210.18 472.09,-220.18 479.09,-220.18\"/>\n",
       "<text text-anchor=\"middle\" x=\"486.59\" y=\"-231.8\" font-family=\"Times,serif\" font-size=\"14.00\">is_a</text>\n",
       "</g>\n",
       "<!-- losartan -->\n",
       "<g id=\"node5\" class=\"node\">\n",
       "<title>losartan</title>\n",
       "<ellipse fill=\"none\" stroke=\"black\" cx=\"275.59\" cy=\"-279\" rx=\"38.19\" ry=\"18\"/>\n",
       "<text text-anchor=\"middle\" x=\"275.59\" y=\"-275.3\" font-family=\"Times,serif\" font-size=\"14.00\">losartan</text>\n",
       "</g>\n",
       "<!-- losartan&#45;&gt;medication -->\n",
       "<g id=\"edge2\" class=\"edge\">\n",
       "<title>losartan&#45;&gt;medication</title>\n",
       "<path fill=\"none\" stroke=\"black\" d=\"M289.51,-262.23C301.2,-248.72 318.11,-228.56 331.59,-210 352.97,-180.57 349.76,-166.6 375.59,-141 381.32,-135.33 388.12,-130.13 394.98,-125.57\"/>\n",
       "<polygon fill=\"black\" stroke=\"black\" points=\"397.01,-128.44 403.62,-120.16 393.29,-122.5 397.01,-128.44\"/>\n",
       "<text text-anchor=\"middle\" x=\"363.59\" y=\"-188.3\" font-family=\"Times,serif\" font-size=\"14.00\">is_a</text>\n",
       "</g>\n",
       "<!-- high blood pressure -->\n",
       "<g id=\"node8\" class=\"node\">\n",
       "<title>high blood pressure</title>\n",
       "<ellipse fill=\"none\" stroke=\"black\" cx=\"80.59\" cy=\"-192\" rx=\"80.69\" ry=\"18\"/>\n",
       "<text text-anchor=\"middle\" x=\"80.59\" y=\"-188.3\" font-family=\"Times,serif\" font-size=\"14.00\">high blood pressure</text>\n",
       "</g>\n",
       "<!-- losartan&#45;&gt;high blood pressure -->\n",
       "<g id=\"edge8\" class=\"edge\">\n",
       "<title>losartan&#45;&gt;high blood pressure</title>\n",
       "<path fill=\"none\" stroke=\"black\" d=\"M248.48,-266.18C216.55,-252.26 163.04,-228.94 125.03,-212.37\"/>\n",
       "<polygon fill=\"black\" stroke=\"black\" points=\"126.28,-209.1 115.72,-208.31 123.48,-215.51 126.28,-209.1\"/>\n",
       "<text text-anchor=\"middle\" x=\"215.59\" y=\"-231.8\" font-family=\"Times,serif\" font-size=\"14.00\">can_treat</text>\n",
       "</g>\n",
       "<!-- high blood pressure&#45;&gt;disease -->\n",
       "<g id=\"edge4\" class=\"edge\">\n",
       "<title>high blood pressure&#45;&gt;disease</title>\n",
       "<path fill=\"none\" stroke=\"black\" d=\"M69.93,-173.9C57.89,-152.19 42.01,-114.29 58.59,-87 77.6,-55.72 116.19,-38.17 146.58,-28.78\"/>\n",
       "<polygon fill=\"black\" stroke=\"black\" points=\"147.9,-32.04 156.53,-25.89 145.96,-25.31 147.9,-32.04\"/>\n",
       "<text text-anchor=\"middle\" x=\"69.59\" y=\"-101.3\" font-family=\"Times,serif\" font-size=\"14.00\">is_a</text>\n",
       "</g>\n",
       "<!-- high blood pressure&#45;&gt;hypertensive_retinopathy -->\n",
       "<g id=\"edge9\" class=\"edge\">\n",
       "<title>high blood pressure&#45;&gt;hypertensive_retinopathy</title>\n",
       "<path fill=\"none\" stroke=\"black\" d=\"M76.26,-173.65C74.71,-163.21 74.76,-150.2 81.59,-141 87.83,-132.61 96.11,-126.19 105.34,-121.29\"/>\n",
       "<polygon fill=\"black\" stroke=\"black\" points=\"106.85,-124.44 114.43,-117.04 103.89,-118.1 106.85,-124.44\"/>\n",
       "<text text-anchor=\"middle\" x=\"147.59\" y=\"-144.8\" font-family=\"Times,serif\" font-size=\"14.00\">can_be_associated_with</text>\n",
       "</g>\n",
       "<!-- hypertensive_retinopathy&#45;&gt;disease -->\n",
       "<g id=\"edge11\" class=\"edge\">\n",
       "<title>hypertensive_retinopathy&#45;&gt;disease</title>\n",
       "<path fill=\"none\" stroke=\"black\" d=\"M189.59,-86.8C189.59,-75.16 189.59,-59.55 189.59,-46.24\"/>\n",
       "<polygon fill=\"black\" stroke=\"black\" points=\"193.09,-46.18 189.59,-36.18 186.09,-46.18 193.09,-46.18\"/>\n",
       "<text text-anchor=\"middle\" x=\"200.59\" y=\"-57.8\" font-family=\"Times,serif\" font-size=\"14.00\">is_a</text>\n",
       "</g>\n",
       "</g>\n",
       "</svg>\n"
      ],
      "text/plain": [
       "<graphviz.dot.Digraph at 0x7fefb50f9eb0>"
      ]
     },
     "metadata": {},
     "output_type": "display_data"
    },
    {
     "name": "stdout",
     "output_type": "stream",
     "text": [
      "\n",
      " ====================================== \n",
      "\n"
     ]
    }
   ],
   "source": [
    "for patient_facts in entities:\n",
    "    print (f\"KNOWLEDGE GRAPH FOR PATIENT ID {patient_facts[0]}:\\n\")\n",
    "    g = get_knowledge_graph(patient_facts, triple_store)\n",
    "    display(g)\n",
    "    g.render(f'graph_outputs/{patient_facts[0]}_graph.gv', view=True)  \n",
    "    print (\"\\n ====================================== \\n\")"
   ]
  },
  {
   "cell_type": "code",
   "execution_count": null,
   "id": "64b012e3-ef50-4b76-be4c-33860c770e13",
   "metadata": {},
   "outputs": [],
   "source": []
  }
 ],
 "metadata": {
  "kernelspec": {
   "display_name": "Python 3 (ipykernel)",
   "language": "python",
   "name": "python3"
  },
  "language_info": {
   "codemirror_mode": {
    "name": "ipython",
    "version": 3
   },
   "file_extension": ".py",
   "mimetype": "text/x-python",
   "name": "python",
   "nbconvert_exporter": "python",
   "pygments_lexer": "ipython3",
   "version": "3.9.6"
  }
 },
 "nbformat": 4,
 "nbformat_minor": 5
}
